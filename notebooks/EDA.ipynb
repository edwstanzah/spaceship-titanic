{
 "cells": [
  {
   "cell_type": "markdown",
   "metadata": {},
   "source": [
    "File and Data Field Descriptions\n",
    "- train.csv - Personal records for about two-thirds (~8700) of the passengers, to be used as training data.\n",
    "\n",
    "        PassengerId - A unique Id for each passenger. Each Id takes the form gggg_pp where gggg indicates a group the passenger is travelling with and pp is their number within the group. People in a group are often family members, but not always.\n",
    "\n",
    "        HomePlanet - The planet the passenger departed from, typically their planet of permanent residence.\n",
    "\n",
    "        CryoSleep - Indicates whether the passenger elected to be put into suspended animation for the duration of the voyage. Passengers in cryosleep are confined to their cabins.\n",
    "\n",
    "        Cabin - The cabin number where the passenger is staying. Takes the form deck/num/side, where side can be either P for Port or S for Starboard.\n",
    "\n",
    "        Destination - The planet the passenger will be debarking to.\n",
    "\n",
    "        Age - The age of the passenger.\n",
    "\n",
    "        VIP - Whether the passenger has paid for special VIP service during the voyage.\n",
    "\n",
    "        RoomService, FoodCourt, ShoppingMall, Spa, VRDeck - Amount the passenger has billed at each of the Spaceship Titanic's many luxury amenities.\n",
    "\n",
    "        Name - The first and last names of the passenger.\n",
    "        \n",
    "        Transported - Whether the passenger was transported to another dimension. This is the target, the column you are trying to predict."
   ]
  },
  {
   "cell_type": "code",
   "execution_count": 1,
   "metadata": {},
   "outputs": [],
   "source": [
    "import pandas as pd\n",
    "import numpy as np\n",
    "import matplotlib.pyplot as plt\n",
    "import seaborn as sns\n",
    "import missingno as msno\n",
    "\n",
    "sns.set(style='white')\n"
   ]
  },
  {
   "cell_type": "code",
   "execution_count": 2,
   "metadata": {},
   "outputs": [],
   "source": [
    "CMAP = ['#003f5c', '#ffa600', '#444e86', '#955196', '#dd5182', '#ff6e54']"
   ]
  },
  {
   "cell_type": "code",
   "execution_count": 3,
   "metadata": {},
   "outputs": [],
   "source": [
    "train = pd.read_csv('../data/train.csv')\n",
    "test = pd.read_csv('../data/test.csv')"
   ]
  },
  {
   "cell_type": "markdown",
   "metadata": {},
   "source": [
    "# EDA & Feature Engineering\n",
    "\n",
    "First, we shall look to understand the data."
   ]
  },
  {
   "cell_type": "code",
   "execution_count": 4,
   "metadata": {},
   "outputs": [
    {
     "name": "stdout",
     "output_type": "stream",
     "text": [
      "<class 'pandas.core.frame.DataFrame'>\n",
      "RangeIndex: 8693 entries, 0 to 8692\n",
      "Data columns (total 14 columns):\n",
      " #   Column        Non-Null Count  Dtype  \n",
      "---  ------        --------------  -----  \n",
      " 0   PassengerId   8693 non-null   object \n",
      " 1   HomePlanet    8492 non-null   object \n",
      " 2   CryoSleep     8476 non-null   object \n",
      " 3   Cabin         8494 non-null   object \n",
      " 4   Destination   8511 non-null   object \n",
      " 5   Age           8514 non-null   float64\n",
      " 6   VIP           8490 non-null   object \n",
      " 7   RoomService   8512 non-null   float64\n",
      " 8   FoodCourt     8510 non-null   float64\n",
      " 9   ShoppingMall  8485 non-null   float64\n",
      " 10  Spa           8510 non-null   float64\n",
      " 11  VRDeck        8505 non-null   float64\n",
      " 12  Name          8493 non-null   object \n",
      " 13  Transported   8693 non-null   bool   \n",
      "dtypes: bool(1), float64(6), object(7)\n",
      "memory usage: 891.5+ KB\n"
     ]
    }
   ],
   "source": [
    "train.info()"
   ]
  },
  {
   "cell_type": "code",
   "execution_count": 5,
   "metadata": {},
   "outputs": [
    {
     "name": "stdout",
     "output_type": "stream",
     "text": [
      "<class 'pandas.core.frame.DataFrame'>\n",
      "RangeIndex: 4277 entries, 0 to 4276\n",
      "Data columns (total 13 columns):\n",
      " #   Column        Non-Null Count  Dtype  \n",
      "---  ------        --------------  -----  \n",
      " 0   PassengerId   4277 non-null   object \n",
      " 1   HomePlanet    4190 non-null   object \n",
      " 2   CryoSleep     4184 non-null   object \n",
      " 3   Cabin         4177 non-null   object \n",
      " 4   Destination   4185 non-null   object \n",
      " 5   Age           4186 non-null   float64\n",
      " 6   VIP           4184 non-null   object \n",
      " 7   RoomService   4195 non-null   float64\n",
      " 8   FoodCourt     4171 non-null   float64\n",
      " 9   ShoppingMall  4179 non-null   float64\n",
      " 10  Spa           4176 non-null   float64\n",
      " 11  VRDeck        4197 non-null   float64\n",
      " 12  Name          4183 non-null   object \n",
      "dtypes: float64(6), object(7)\n",
      "memory usage: 434.5+ KB\n"
     ]
    }
   ],
   "source": [
    "test.info()"
   ]
  },
  {
   "cell_type": "code",
   "execution_count": 6,
   "metadata": {},
   "outputs": [
    {
     "data": {
      "text/html": [
       "<div>\n",
       "<style scoped>\n",
       "    .dataframe tbody tr th:only-of-type {\n",
       "        vertical-align: middle;\n",
       "    }\n",
       "\n",
       "    .dataframe tbody tr th {\n",
       "        vertical-align: top;\n",
       "    }\n",
       "\n",
       "    .dataframe thead th {\n",
       "        text-align: right;\n",
       "    }\n",
       "</style>\n",
       "<table border=\"1\" class=\"dataframe\">\n",
       "  <thead>\n",
       "    <tr style=\"text-align: right;\">\n",
       "      <th></th>\n",
       "      <th>Age</th>\n",
       "      <th>RoomService</th>\n",
       "      <th>FoodCourt</th>\n",
       "      <th>ShoppingMall</th>\n",
       "      <th>Spa</th>\n",
       "      <th>VRDeck</th>\n",
       "    </tr>\n",
       "  </thead>\n",
       "  <tbody>\n",
       "    <tr>\n",
       "      <th>count</th>\n",
       "      <td>8514.000000</td>\n",
       "      <td>8512.000000</td>\n",
       "      <td>8510.000000</td>\n",
       "      <td>8485.000000</td>\n",
       "      <td>8510.000000</td>\n",
       "      <td>8505.000000</td>\n",
       "    </tr>\n",
       "    <tr>\n",
       "      <th>mean</th>\n",
       "      <td>28.827930</td>\n",
       "      <td>224.687617</td>\n",
       "      <td>458.077203</td>\n",
       "      <td>173.729169</td>\n",
       "      <td>311.138778</td>\n",
       "      <td>304.854791</td>\n",
       "    </tr>\n",
       "    <tr>\n",
       "      <th>std</th>\n",
       "      <td>14.489021</td>\n",
       "      <td>666.717663</td>\n",
       "      <td>1611.489240</td>\n",
       "      <td>604.696458</td>\n",
       "      <td>1136.705535</td>\n",
       "      <td>1145.717189</td>\n",
       "    </tr>\n",
       "    <tr>\n",
       "      <th>min</th>\n",
       "      <td>0.000000</td>\n",
       "      <td>0.000000</td>\n",
       "      <td>0.000000</td>\n",
       "      <td>0.000000</td>\n",
       "      <td>0.000000</td>\n",
       "      <td>0.000000</td>\n",
       "    </tr>\n",
       "    <tr>\n",
       "      <th>25%</th>\n",
       "      <td>19.000000</td>\n",
       "      <td>0.000000</td>\n",
       "      <td>0.000000</td>\n",
       "      <td>0.000000</td>\n",
       "      <td>0.000000</td>\n",
       "      <td>0.000000</td>\n",
       "    </tr>\n",
       "    <tr>\n",
       "      <th>50%</th>\n",
       "      <td>27.000000</td>\n",
       "      <td>0.000000</td>\n",
       "      <td>0.000000</td>\n",
       "      <td>0.000000</td>\n",
       "      <td>0.000000</td>\n",
       "      <td>0.000000</td>\n",
       "    </tr>\n",
       "    <tr>\n",
       "      <th>75%</th>\n",
       "      <td>38.000000</td>\n",
       "      <td>47.000000</td>\n",
       "      <td>76.000000</td>\n",
       "      <td>27.000000</td>\n",
       "      <td>59.000000</td>\n",
       "      <td>46.000000</td>\n",
       "    </tr>\n",
       "    <tr>\n",
       "      <th>max</th>\n",
       "      <td>79.000000</td>\n",
       "      <td>14327.000000</td>\n",
       "      <td>29813.000000</td>\n",
       "      <td>23492.000000</td>\n",
       "      <td>22408.000000</td>\n",
       "      <td>24133.000000</td>\n",
       "    </tr>\n",
       "  </tbody>\n",
       "</table>\n",
       "</div>"
      ],
      "text/plain": [
       "               Age   RoomService     FoodCourt  ShoppingMall           Spa  \\\n",
       "count  8514.000000   8512.000000   8510.000000   8485.000000   8510.000000   \n",
       "mean     28.827930    224.687617    458.077203    173.729169    311.138778   \n",
       "std      14.489021    666.717663   1611.489240    604.696458   1136.705535   \n",
       "min       0.000000      0.000000      0.000000      0.000000      0.000000   \n",
       "25%      19.000000      0.000000      0.000000      0.000000      0.000000   \n",
       "50%      27.000000      0.000000      0.000000      0.000000      0.000000   \n",
       "75%      38.000000     47.000000     76.000000     27.000000     59.000000   \n",
       "max      79.000000  14327.000000  29813.000000  23492.000000  22408.000000   \n",
       "\n",
       "             VRDeck  \n",
       "count   8505.000000  \n",
       "mean     304.854791  \n",
       "std     1145.717189  \n",
       "min        0.000000  \n",
       "25%        0.000000  \n",
       "50%        0.000000  \n",
       "75%       46.000000  \n",
       "max    24133.000000  "
      ]
     },
     "execution_count": 6,
     "metadata": {},
     "output_type": "execute_result"
    }
   ],
   "source": [
    "train.describe()"
   ]
  },
  {
   "cell_type": "code",
   "execution_count": 7,
   "metadata": {},
   "outputs": [
    {
     "data": {
      "text/html": [
       "<div>\n",
       "<style scoped>\n",
       "    .dataframe tbody tr th:only-of-type {\n",
       "        vertical-align: middle;\n",
       "    }\n",
       "\n",
       "    .dataframe tbody tr th {\n",
       "        vertical-align: top;\n",
       "    }\n",
       "\n",
       "    .dataframe thead th {\n",
       "        text-align: right;\n",
       "    }\n",
       "</style>\n",
       "<table border=\"1\" class=\"dataframe\">\n",
       "  <thead>\n",
       "    <tr style=\"text-align: right;\">\n",
       "      <th></th>\n",
       "      <th>Age</th>\n",
       "      <th>RoomService</th>\n",
       "      <th>FoodCourt</th>\n",
       "      <th>ShoppingMall</th>\n",
       "      <th>Spa</th>\n",
       "      <th>VRDeck</th>\n",
       "    </tr>\n",
       "  </thead>\n",
       "  <tbody>\n",
       "    <tr>\n",
       "      <th>count</th>\n",
       "      <td>4186.000000</td>\n",
       "      <td>4195.000000</td>\n",
       "      <td>4171.000000</td>\n",
       "      <td>4179.000000</td>\n",
       "      <td>4176.000000</td>\n",
       "      <td>4197.000000</td>\n",
       "    </tr>\n",
       "    <tr>\n",
       "      <th>mean</th>\n",
       "      <td>28.658146</td>\n",
       "      <td>219.266269</td>\n",
       "      <td>439.484296</td>\n",
       "      <td>177.295525</td>\n",
       "      <td>303.052443</td>\n",
       "      <td>310.710031</td>\n",
       "    </tr>\n",
       "    <tr>\n",
       "      <th>std</th>\n",
       "      <td>14.179072</td>\n",
       "      <td>607.011289</td>\n",
       "      <td>1527.663045</td>\n",
       "      <td>560.821123</td>\n",
       "      <td>1117.186015</td>\n",
       "      <td>1246.994742</td>\n",
       "    </tr>\n",
       "    <tr>\n",
       "      <th>min</th>\n",
       "      <td>0.000000</td>\n",
       "      <td>0.000000</td>\n",
       "      <td>0.000000</td>\n",
       "      <td>0.000000</td>\n",
       "      <td>0.000000</td>\n",
       "      <td>0.000000</td>\n",
       "    </tr>\n",
       "    <tr>\n",
       "      <th>25%</th>\n",
       "      <td>19.000000</td>\n",
       "      <td>0.000000</td>\n",
       "      <td>0.000000</td>\n",
       "      <td>0.000000</td>\n",
       "      <td>0.000000</td>\n",
       "      <td>0.000000</td>\n",
       "    </tr>\n",
       "    <tr>\n",
       "      <th>50%</th>\n",
       "      <td>26.000000</td>\n",
       "      <td>0.000000</td>\n",
       "      <td>0.000000</td>\n",
       "      <td>0.000000</td>\n",
       "      <td>0.000000</td>\n",
       "      <td>0.000000</td>\n",
       "    </tr>\n",
       "    <tr>\n",
       "      <th>75%</th>\n",
       "      <td>37.000000</td>\n",
       "      <td>53.000000</td>\n",
       "      <td>78.000000</td>\n",
       "      <td>33.000000</td>\n",
       "      <td>50.000000</td>\n",
       "      <td>36.000000</td>\n",
       "    </tr>\n",
       "    <tr>\n",
       "      <th>max</th>\n",
       "      <td>79.000000</td>\n",
       "      <td>11567.000000</td>\n",
       "      <td>25273.000000</td>\n",
       "      <td>8292.000000</td>\n",
       "      <td>19844.000000</td>\n",
       "      <td>22272.000000</td>\n",
       "    </tr>\n",
       "  </tbody>\n",
       "</table>\n",
       "</div>"
      ],
      "text/plain": [
       "               Age   RoomService     FoodCourt  ShoppingMall           Spa  \\\n",
       "count  4186.000000   4195.000000   4171.000000   4179.000000   4176.000000   \n",
       "mean     28.658146    219.266269    439.484296    177.295525    303.052443   \n",
       "std      14.179072    607.011289   1527.663045    560.821123   1117.186015   \n",
       "min       0.000000      0.000000      0.000000      0.000000      0.000000   \n",
       "25%      19.000000      0.000000      0.000000      0.000000      0.000000   \n",
       "50%      26.000000      0.000000      0.000000      0.000000      0.000000   \n",
       "75%      37.000000     53.000000     78.000000     33.000000     50.000000   \n",
       "max      79.000000  11567.000000  25273.000000   8292.000000  19844.000000   \n",
       "\n",
       "             VRDeck  \n",
       "count   4197.000000  \n",
       "mean     310.710031  \n",
       "std     1246.994742  \n",
       "min        0.000000  \n",
       "25%        0.000000  \n",
       "50%        0.000000  \n",
       "75%       36.000000  \n",
       "max    22272.000000  "
      ]
     },
     "execution_count": 7,
     "metadata": {},
     "output_type": "execute_result"
    }
   ],
   "source": [
    "test.describe()"
   ]
  },
  {
   "cell_type": "code",
   "execution_count": 8,
   "metadata": {},
   "outputs": [
    {
     "data": {
      "text/html": [
       "<div>\n",
       "<style scoped>\n",
       "    .dataframe tbody tr th:only-of-type {\n",
       "        vertical-align: middle;\n",
       "    }\n",
       "\n",
       "    .dataframe tbody tr th {\n",
       "        vertical-align: top;\n",
       "    }\n",
       "\n",
       "    .dataframe thead th {\n",
       "        text-align: right;\n",
       "    }\n",
       "</style>\n",
       "<table border=\"1\" class=\"dataframe\">\n",
       "  <thead>\n",
       "    <tr style=\"text-align: right;\">\n",
       "      <th></th>\n",
       "      <th>PassengerId</th>\n",
       "      <th>HomePlanet</th>\n",
       "      <th>CryoSleep</th>\n",
       "      <th>Cabin</th>\n",
       "      <th>Destination</th>\n",
       "      <th>VIP</th>\n",
       "      <th>Name</th>\n",
       "    </tr>\n",
       "  </thead>\n",
       "  <tbody>\n",
       "    <tr>\n",
       "      <th>count</th>\n",
       "      <td>8693</td>\n",
       "      <td>8492</td>\n",
       "      <td>8476</td>\n",
       "      <td>8494</td>\n",
       "      <td>8511</td>\n",
       "      <td>8490</td>\n",
       "      <td>8493</td>\n",
       "    </tr>\n",
       "    <tr>\n",
       "      <th>unique</th>\n",
       "      <td>8693</td>\n",
       "      <td>3</td>\n",
       "      <td>2</td>\n",
       "      <td>6560</td>\n",
       "      <td>3</td>\n",
       "      <td>2</td>\n",
       "      <td>8473</td>\n",
       "    </tr>\n",
       "    <tr>\n",
       "      <th>top</th>\n",
       "      <td>0001_01</td>\n",
       "      <td>Earth</td>\n",
       "      <td>False</td>\n",
       "      <td>G/734/S</td>\n",
       "      <td>TRAPPIST-1e</td>\n",
       "      <td>False</td>\n",
       "      <td>Gollux Reedall</td>\n",
       "    </tr>\n",
       "    <tr>\n",
       "      <th>freq</th>\n",
       "      <td>1</td>\n",
       "      <td>4602</td>\n",
       "      <td>5439</td>\n",
       "      <td>8</td>\n",
       "      <td>5915</td>\n",
       "      <td>8291</td>\n",
       "      <td>2</td>\n",
       "    </tr>\n",
       "  </tbody>\n",
       "</table>\n",
       "</div>"
      ],
      "text/plain": [
       "       PassengerId HomePlanet CryoSleep    Cabin  Destination    VIP  \\\n",
       "count         8693       8492      8476     8494         8511   8490   \n",
       "unique        8693          3         2     6560            3      2   \n",
       "top        0001_01      Earth     False  G/734/S  TRAPPIST-1e  False   \n",
       "freq             1       4602      5439        8         5915   8291   \n",
       "\n",
       "                  Name  \n",
       "count             8493  \n",
       "unique            8473  \n",
       "top     Gollux Reedall  \n",
       "freq                 2  "
      ]
     },
     "execution_count": 8,
     "metadata": {},
     "output_type": "execute_result"
    }
   ],
   "source": [
    "train.describe(include='object')"
   ]
  },
  {
   "cell_type": "code",
   "execution_count": 9,
   "metadata": {},
   "outputs": [
    {
     "data": {
      "text/html": [
       "<div>\n",
       "<style scoped>\n",
       "    .dataframe tbody tr th:only-of-type {\n",
       "        vertical-align: middle;\n",
       "    }\n",
       "\n",
       "    .dataframe tbody tr th {\n",
       "        vertical-align: top;\n",
       "    }\n",
       "\n",
       "    .dataframe thead th {\n",
       "        text-align: right;\n",
       "    }\n",
       "</style>\n",
       "<table border=\"1\" class=\"dataframe\">\n",
       "  <thead>\n",
       "    <tr style=\"text-align: right;\">\n",
       "      <th></th>\n",
       "      <th>PassengerId</th>\n",
       "      <th>HomePlanet</th>\n",
       "      <th>CryoSleep</th>\n",
       "      <th>Cabin</th>\n",
       "      <th>Destination</th>\n",
       "      <th>VIP</th>\n",
       "      <th>Name</th>\n",
       "    </tr>\n",
       "  </thead>\n",
       "  <tbody>\n",
       "    <tr>\n",
       "      <th>count</th>\n",
       "      <td>4277</td>\n",
       "      <td>4190</td>\n",
       "      <td>4184</td>\n",
       "      <td>4177</td>\n",
       "      <td>4185</td>\n",
       "      <td>4184</td>\n",
       "      <td>4183</td>\n",
       "    </tr>\n",
       "    <tr>\n",
       "      <th>unique</th>\n",
       "      <td>4277</td>\n",
       "      <td>3</td>\n",
       "      <td>2</td>\n",
       "      <td>3265</td>\n",
       "      <td>3</td>\n",
       "      <td>2</td>\n",
       "      <td>4176</td>\n",
       "    </tr>\n",
       "    <tr>\n",
       "      <th>top</th>\n",
       "      <td>0013_01</td>\n",
       "      <td>Earth</td>\n",
       "      <td>False</td>\n",
       "      <td>G/160/P</td>\n",
       "      <td>TRAPPIST-1e</td>\n",
       "      <td>False</td>\n",
       "      <td>Cints Erle</td>\n",
       "    </tr>\n",
       "    <tr>\n",
       "      <th>freq</th>\n",
       "      <td>1</td>\n",
       "      <td>2263</td>\n",
       "      <td>2640</td>\n",
       "      <td>8</td>\n",
       "      <td>2956</td>\n",
       "      <td>4110</td>\n",
       "      <td>2</td>\n",
       "    </tr>\n",
       "  </tbody>\n",
       "</table>\n",
       "</div>"
      ],
      "text/plain": [
       "       PassengerId HomePlanet CryoSleep    Cabin  Destination    VIP  \\\n",
       "count         4277       4190      4184     4177         4185   4184   \n",
       "unique        4277          3         2     3265            3      2   \n",
       "top        0013_01      Earth     False  G/160/P  TRAPPIST-1e  False   \n",
       "freq             1       2263      2640        8         2956   4110   \n",
       "\n",
       "              Name  \n",
       "count         4183  \n",
       "unique        4176  \n",
       "top     Cints Erle  \n",
       "freq             2  "
      ]
     },
     "execution_count": 9,
     "metadata": {},
     "output_type": "execute_result"
    }
   ],
   "source": [
    "test.describe(include='object')"
   ]
  },
  {
   "cell_type": "markdown",
   "metadata": {},
   "source": [
    "<li>Some missing values in all of the columns except for 'PassengerId' and 'Transported'.</li>\n",
    "<li>Expenditure columns ('FoodCourt', 'ShoppingMall', etc.) are probably right skewed seeing that the max values are far above the 75th percentile. </li>\n",
    "<li>Earth is the most common 'HomePlanet'.</li>\n",
    "<li>TRAPPIST-1e is the most common 'Destination'.</li>\n",
    "<li>Only around 200 passengers are in VIPs. </li>\n",
    "<li>Statistics description are more or less similar in both training and test data.</li>\n",
    "\n"
   ]
  },
  {
   "cell_type": "markdown",
   "metadata": {},
   "source": [
    "### Missing Values"
   ]
  },
  {
   "cell_type": "code",
   "execution_count": 10,
   "metadata": {},
   "outputs": [
    {
     "data": {
      "text/plain": [
       "PassengerId       0\n",
       "HomePlanet      201\n",
       "CryoSleep       217\n",
       "Cabin           199\n",
       "Destination     182\n",
       "Age             179\n",
       "VIP             203\n",
       "RoomService     181\n",
       "FoodCourt       183\n",
       "ShoppingMall    208\n",
       "Spa             183\n",
       "VRDeck          188\n",
       "Name            200\n",
       "Transported       0\n",
       "dtype: int64"
      ]
     },
     "execution_count": 10,
     "metadata": {},
     "output_type": "execute_result"
    }
   ],
   "source": [
    "train.isnull().sum()"
   ]
  },
  {
   "cell_type": "markdown",
   "metadata": {},
   "source": [
    "Look like every single feature column has missing values. Are they missing together or are they missing exclusively?"
   ]
  },
  {
   "cell_type": "markdown",
   "metadata": {},
   "source": [
    "First, we'll take a look at how much data would we lose if we simply drop all the missing values."
   ]
  },
  {
   "cell_type": "code",
   "execution_count": 11,
   "metadata": {},
   "outputs": [
    {
     "data": {
      "text/plain": [
       "6606"
      ]
     },
     "execution_count": 11,
     "metadata": {},
     "output_type": "execute_result"
    }
   ],
   "source": [
    "len(train.dropna(axis=0))"
   ]
  },
  {
   "cell_type": "markdown",
   "metadata": {},
   "source": [
    "We'll be missing out on about 25% (about 2,000 rows) of the data by dropping all the NaN values indiscriminately. We need to impute the missing data to preserve information. "
   ]
  },
  {
   "cell_type": "code",
   "execution_count": 12,
   "metadata": {},
   "outputs": [
    {
     "data": {
      "text/plain": [
       "PassengerId       0\n",
       "HomePlanet      201\n",
       "CryoSleep         2\n",
       "Cabin             6\n",
       "Destination       4\n",
       "Age               2\n",
       "VIP               3\n",
       "RoomService       6\n",
       "FoodCourt         2\n",
       "ShoppingMall      7\n",
       "Spa               3\n",
       "VRDeck            1\n",
       "Name              7\n",
       "Transported       0\n",
       "dtype: int64"
      ]
     },
     "execution_count": 12,
     "metadata": {},
     "output_type": "execute_result"
    }
   ],
   "source": [
    "null_homeplanet = train[train.HomePlanet.isnull()]\n",
    "null_homeplanet.isnull().sum()"
   ]
  },
  {
   "cell_type": "code",
   "execution_count": 13,
   "metadata": {},
   "outputs": [
    {
     "data": {
      "text/html": [
       "<div>\n",
       "<style scoped>\n",
       "    .dataframe tbody tr th:only-of-type {\n",
       "        vertical-align: middle;\n",
       "    }\n",
       "\n",
       "    .dataframe tbody tr th {\n",
       "        vertical-align: top;\n",
       "    }\n",
       "\n",
       "    .dataframe thead th {\n",
       "        text-align: right;\n",
       "    }\n",
       "</style>\n",
       "<table border=\"1\" class=\"dataframe\">\n",
       "  <thead>\n",
       "    <tr style=\"text-align: right;\">\n",
       "      <th></th>\n",
       "      <th>Age</th>\n",
       "      <th>RoomService</th>\n",
       "      <th>FoodCourt</th>\n",
       "      <th>ShoppingMall</th>\n",
       "      <th>Spa</th>\n",
       "      <th>VRDeck</th>\n",
       "    </tr>\n",
       "  </thead>\n",
       "  <tbody>\n",
       "    <tr>\n",
       "      <th>count</th>\n",
       "      <td>199.000000</td>\n",
       "      <td>195.000000</td>\n",
       "      <td>199.000000</td>\n",
       "      <td>194.000000</td>\n",
       "      <td>198.000000</td>\n",
       "      <td>200.00000</td>\n",
       "    </tr>\n",
       "    <tr>\n",
       "      <th>mean</th>\n",
       "      <td>28.793970</td>\n",
       "      <td>202.789744</td>\n",
       "      <td>262.638191</td>\n",
       "      <td>141.742268</td>\n",
       "      <td>231.762626</td>\n",
       "      <td>284.91500</td>\n",
       "    </tr>\n",
       "    <tr>\n",
       "      <th>std</th>\n",
       "      <td>14.483455</td>\n",
       "      <td>444.926731</td>\n",
       "      <td>709.517135</td>\n",
       "      <td>578.257312</td>\n",
       "      <td>1057.962364</td>\n",
       "      <td>889.41508</td>\n",
       "    </tr>\n",
       "    <tr>\n",
       "      <th>min</th>\n",
       "      <td>0.000000</td>\n",
       "      <td>0.000000</td>\n",
       "      <td>0.000000</td>\n",
       "      <td>0.000000</td>\n",
       "      <td>0.000000</td>\n",
       "      <td>0.00000</td>\n",
       "    </tr>\n",
       "    <tr>\n",
       "      <th>25%</th>\n",
       "      <td>20.000000</td>\n",
       "      <td>0.000000</td>\n",
       "      <td>0.000000</td>\n",
       "      <td>0.000000</td>\n",
       "      <td>0.000000</td>\n",
       "      <td>0.00000</td>\n",
       "    </tr>\n",
       "    <tr>\n",
       "      <th>50%</th>\n",
       "      <td>26.000000</td>\n",
       "      <td>0.000000</td>\n",
       "      <td>0.000000</td>\n",
       "      <td>0.000000</td>\n",
       "      <td>0.000000</td>\n",
       "      <td>0.00000</td>\n",
       "    </tr>\n",
       "    <tr>\n",
       "      <th>75%</th>\n",
       "      <td>38.000000</td>\n",
       "      <td>20.500000</td>\n",
       "      <td>25.000000</td>\n",
       "      <td>16.250000</td>\n",
       "      <td>19.750000</td>\n",
       "      <td>60.50000</td>\n",
       "    </tr>\n",
       "    <tr>\n",
       "      <th>max</th>\n",
       "      <td>74.000000</td>\n",
       "      <td>2083.000000</td>\n",
       "      <td>4387.000000</td>\n",
       "      <td>7104.000000</td>\n",
       "      <td>11001.000000</td>\n",
       "      <td>7121.00000</td>\n",
       "    </tr>\n",
       "  </tbody>\n",
       "</table>\n",
       "</div>"
      ],
      "text/plain": [
       "              Age  RoomService    FoodCourt  ShoppingMall           Spa  \\\n",
       "count  199.000000   195.000000   199.000000    194.000000    198.000000   \n",
       "mean    28.793970   202.789744   262.638191    141.742268    231.762626   \n",
       "std     14.483455   444.926731   709.517135    578.257312   1057.962364   \n",
       "min      0.000000     0.000000     0.000000      0.000000      0.000000   \n",
       "25%     20.000000     0.000000     0.000000      0.000000      0.000000   \n",
       "50%     26.000000     0.000000     0.000000      0.000000      0.000000   \n",
       "75%     38.000000    20.500000    25.000000     16.250000     19.750000   \n",
       "max     74.000000  2083.000000  4387.000000   7104.000000  11001.000000   \n",
       "\n",
       "           VRDeck  \n",
       "count   200.00000  \n",
       "mean    284.91500  \n",
       "std     889.41508  \n",
       "min       0.00000  \n",
       "25%       0.00000  \n",
       "50%       0.00000  \n",
       "75%      60.50000  \n",
       "max    7121.00000  "
      ]
     },
     "execution_count": 13,
     "metadata": {},
     "output_type": "execute_result"
    }
   ],
   "source": [
    "null_homeplanet.describe()"
   ]
  },
  {
   "cell_type": "code",
   "execution_count": 14,
   "metadata": {},
   "outputs": [
    {
     "data": {
      "text/html": [
       "<div>\n",
       "<style scoped>\n",
       "    .dataframe tbody tr th:only-of-type {\n",
       "        vertical-align: middle;\n",
       "    }\n",
       "\n",
       "    .dataframe tbody tr th {\n",
       "        vertical-align: top;\n",
       "    }\n",
       "\n",
       "    .dataframe thead th {\n",
       "        text-align: right;\n",
       "    }\n",
       "</style>\n",
       "<table border=\"1\" class=\"dataframe\">\n",
       "  <thead>\n",
       "    <tr style=\"text-align: right;\">\n",
       "      <th></th>\n",
       "      <th>PassengerId</th>\n",
       "      <th>HomePlanet</th>\n",
       "      <th>CryoSleep</th>\n",
       "      <th>Cabin</th>\n",
       "      <th>Destination</th>\n",
       "      <th>VIP</th>\n",
       "      <th>Name</th>\n",
       "    </tr>\n",
       "  </thead>\n",
       "  <tbody>\n",
       "    <tr>\n",
       "      <th>count</th>\n",
       "      <td>201</td>\n",
       "      <td>0</td>\n",
       "      <td>199</td>\n",
       "      <td>195</td>\n",
       "      <td>197</td>\n",
       "      <td>198</td>\n",
       "      <td>194</td>\n",
       "    </tr>\n",
       "    <tr>\n",
       "      <th>unique</th>\n",
       "      <td>201</td>\n",
       "      <td>0</td>\n",
       "      <td>2</td>\n",
       "      <td>193</td>\n",
       "      <td>3</td>\n",
       "      <td>2</td>\n",
       "      <td>194</td>\n",
       "    </tr>\n",
       "    <tr>\n",
       "      <th>top</th>\n",
       "      <td>0064_02</td>\n",
       "      <td>NaN</td>\n",
       "      <td>False</td>\n",
       "      <td>F/1411/S</td>\n",
       "      <td>TRAPPIST-1e</td>\n",
       "      <td>False</td>\n",
       "      <td>Colatz Keen</td>\n",
       "    </tr>\n",
       "    <tr>\n",
       "      <th>freq</th>\n",
       "      <td>1</td>\n",
       "      <td>NaN</td>\n",
       "      <td>124</td>\n",
       "      <td>2</td>\n",
       "      <td>150</td>\n",
       "      <td>193</td>\n",
       "      <td>1</td>\n",
       "    </tr>\n",
       "  </tbody>\n",
       "</table>\n",
       "</div>"
      ],
      "text/plain": [
       "       PassengerId HomePlanet CryoSleep     Cabin  Destination    VIP  \\\n",
       "count          201          0       199       195          197    198   \n",
       "unique         201          0         2       193            3      2   \n",
       "top        0064_02        NaN     False  F/1411/S  TRAPPIST-1e  False   \n",
       "freq             1        NaN       124         2          150    193   \n",
       "\n",
       "               Name  \n",
       "count           194  \n",
       "unique          194  \n",
       "top     Colatz Keen  \n",
       "freq              1  "
      ]
     },
     "execution_count": 14,
     "metadata": {},
     "output_type": "execute_result"
    }
   ],
   "source": [
    "null_homeplanet.describe(include='object')"
   ]
  },
  {
   "cell_type": "markdown",
   "metadata": {},
   "source": [
    "<li>missing values are pretty much exclusive based on the 'HomePlanet' column.</li>\n",
    "<li> They appear to be randomly missing but is this true across all columns?</li?>\n",
    "\n",
    "<br><br>\n",
    "I want to visualize all the missing values in a table/dataframe to see if the missing values are exclusive for each column."
   ]
  },
  {
   "cell_type": "code",
   "execution_count": 15,
   "metadata": {},
   "outputs": [],
   "source": [
    "columns = train.columns\n",
    "\n",
    "# create a list of df containing only null values for each column\n",
    "null_dfs = [train[train[col].isnull()] for col in columns]\n",
    "\n",
    "# create another list that shows the total number of missing values for each column\n",
    "nullsum_dfs = [df.isnull().sum() for df in null_dfs]\n",
    "\n",
    "# combine them into a dataframe, cutting out PassengerId and Transported\n",
    "nullsum_combine = pd.DataFrame(index=train.columns[1:-1], columns=columns[1:-1], data=nullsum_dfs[1:-1])\n"
   ]
  },
  {
   "cell_type": "code",
   "execution_count": 16,
   "metadata": {},
   "outputs": [
    {
     "data": {
      "text/html": [
       "<style type=\"text/css\">\n",
       "#T_6fc88_row0_col0, #T_6fc88_row1_col1, #T_6fc88_row2_col2, #T_6fc88_row3_col3, #T_6fc88_row4_col4, #T_6fc88_row5_col5, #T_6fc88_row6_col6, #T_6fc88_row7_col7, #T_6fc88_row8_col8, #T_6fc88_row9_col9, #T_6fc88_row10_col10, #T_6fc88_row11_col11 {\n",
       "  background-color: #fee838;\n",
       "  color: #000000;\n",
       "}\n",
       "#T_6fc88_row0_col1, #T_6fc88_row0_col4, #T_6fc88_row1_col0, #T_6fc88_row1_col6, #T_6fc88_row1_col7, #T_6fc88_row2_col9, #T_6fc88_row2_col11, #T_6fc88_row3_col10, #T_6fc88_row4_col0, #T_6fc88_row4_col3, #T_6fc88_row5_col9, #T_6fc88_row6_col1, #T_6fc88_row6_col3, #T_6fc88_row6_col10, #T_6fc88_row7_col0, #T_6fc88_row7_col6, #T_6fc88_row8_col9, #T_6fc88_row9_col3, #T_6fc88_row9_col5, #T_6fc88_row10_col6 {\n",
       "  background-color: #00234f;\n",
       "  color: #f1f1f1;\n",
       "}\n",
       "#T_6fc88_row0_col2, #T_6fc88_row1_col9, #T_6fc88_row3_col7, #T_6fc88_row5_col2, #T_6fc88_row7_col3, #T_6fc88_row7_col9, #T_6fc88_row7_col11, #T_6fc88_row10_col7 {\n",
       "  background-color: #002656;\n",
       "  color: #f1f1f1;\n",
       "}\n",
       "#T_6fc88_row0_col3, #T_6fc88_row0_col5, #T_6fc88_row0_col9, #T_6fc88_row1_col3, #T_6fc88_row2_col3, #T_6fc88_row3_col2, #T_6fc88_row3_col4, #T_6fc88_row3_col6, #T_6fc88_row3_col9, #T_6fc88_row4_col2, #T_6fc88_row4_col7, #T_6fc88_row4_col8, #T_6fc88_row4_col11, #T_6fc88_row5_col0, #T_6fc88_row5_col3, #T_6fc88_row5_col7, #T_6fc88_row5_col8, #T_6fc88_row6_col2, #T_6fc88_row6_col8, #T_6fc88_row6_col9, #T_6fc88_row7_col1, #T_6fc88_row9_col0, #T_6fc88_row9_col6, #T_6fc88_row9_col10, #T_6fc88_row10_col2, #T_6fc88_row10_col9, #T_6fc88_row11_col3, #T_6fc88_row11_col4, #T_6fc88_row11_col8 {\n",
       "  background-color: #002451;\n",
       "  color: #f1f1f1;\n",
       "}\n",
       "#T_6fc88_row0_col6, #T_6fc88_row0_col11, #T_6fc88_row1_col5, #T_6fc88_row1_col8, #T_6fc88_row2_col1, #T_6fc88_row5_col1, #T_6fc88_row5_col4, #T_6fc88_row8_col0, #T_6fc88_row10_col1, #T_6fc88_row11_col0, #T_6fc88_row11_col9 {\n",
       "  background-color: #002859;\n",
       "  color: #f1f1f1;\n",
       "}\n",
       "#T_6fc88_row0_col7, #T_6fc88_row0_col10, #T_6fc88_row1_col4, #T_6fc88_row2_col8, #T_6fc88_row4_col1, #T_6fc88_row4_col6, #T_6fc88_row4_col9, #T_6fc88_row5_col10, #T_6fc88_row5_col11, #T_6fc88_row6_col4, #T_6fc88_row6_col7, #T_6fc88_row6_col11, #T_6fc88_row7_col8, #T_6fc88_row8_col2, #T_6fc88_row8_col7, #T_6fc88_row9_col2, #T_6fc88_row9_col4, #T_6fc88_row9_col8, #T_6fc88_row10_col0, #T_6fc88_row10_col3, #T_6fc88_row10_col5, #T_6fc88_row11_col2, #T_6fc88_row11_col5, #T_6fc88_row11_col6 {\n",
       "  background-color: #00224e;\n",
       "  color: #f1f1f1;\n",
       "}\n",
       "#T_6fc88_row0_col8, #T_6fc88_row1_col2, #T_6fc88_row2_col0, #T_6fc88_row2_col5, #T_6fc88_row4_col5, #T_6fc88_row6_col0, #T_6fc88_row7_col10, #T_6fc88_row8_col10, #T_6fc88_row9_col11 {\n",
       "  background-color: #002758;\n",
       "  color: #f1f1f1;\n",
       "}\n",
       "#T_6fc88_row1_col10, #T_6fc88_row8_col1 {\n",
       "  background-color: #00285b;\n",
       "  color: #f1f1f1;\n",
       "}\n",
       "#T_6fc88_row1_col11 {\n",
       "  background-color: #002a61;\n",
       "  color: #f1f1f1;\n",
       "}\n",
       "#T_6fc88_row2_col4, #T_6fc88_row2_col6, #T_6fc88_row2_col7, #T_6fc88_row2_col10, #T_6fc88_row4_col10, #T_6fc88_row5_col6, #T_6fc88_row7_col4, #T_6fc88_row8_col3, #T_6fc88_row8_col4, #T_6fc88_row8_col6, #T_6fc88_row9_col1, #T_6fc88_row9_col7, #T_6fc88_row10_col4, #T_6fc88_row10_col8, #T_6fc88_row11_col7, #T_6fc88_row11_col10 {\n",
       "  background-color: #002554;\n",
       "  color: #f1f1f1;\n",
       "}\n",
       "#T_6fc88_row3_col0, #T_6fc88_row3_col1, #T_6fc88_row3_col5, #T_6fc88_row3_col8, #T_6fc88_row3_col11, #T_6fc88_row6_col5, #T_6fc88_row7_col2, #T_6fc88_row7_col5, #T_6fc88_row8_col5, #T_6fc88_row8_col11, #T_6fc88_row10_col11 {\n",
       "  background-color: #002553;\n",
       "  color: #f1f1f1;\n",
       "}\n",
       "#T_6fc88_row11_col1 {\n",
       "  background-color: #002a5f;\n",
       "  color: #f1f1f1;\n",
       "}\n",
       "</style>\n",
       "<table id=\"T_6fc88\">\n",
       "  <thead>\n",
       "    <tr>\n",
       "      <th class=\"blank level0\" >&nbsp;</th>\n",
       "      <th id=\"T_6fc88_level0_col0\" class=\"col_heading level0 col0\" >HomePlanet</th>\n",
       "      <th id=\"T_6fc88_level0_col1\" class=\"col_heading level0 col1\" >CryoSleep</th>\n",
       "      <th id=\"T_6fc88_level0_col2\" class=\"col_heading level0 col2\" >Cabin</th>\n",
       "      <th id=\"T_6fc88_level0_col3\" class=\"col_heading level0 col3\" >Destination</th>\n",
       "      <th id=\"T_6fc88_level0_col4\" class=\"col_heading level0 col4\" >Age</th>\n",
       "      <th id=\"T_6fc88_level0_col5\" class=\"col_heading level0 col5\" >VIP</th>\n",
       "      <th id=\"T_6fc88_level0_col6\" class=\"col_heading level0 col6\" >RoomService</th>\n",
       "      <th id=\"T_6fc88_level0_col7\" class=\"col_heading level0 col7\" >FoodCourt</th>\n",
       "      <th id=\"T_6fc88_level0_col8\" class=\"col_heading level0 col8\" >ShoppingMall</th>\n",
       "      <th id=\"T_6fc88_level0_col9\" class=\"col_heading level0 col9\" >Spa</th>\n",
       "      <th id=\"T_6fc88_level0_col10\" class=\"col_heading level0 col10\" >VRDeck</th>\n",
       "      <th id=\"T_6fc88_level0_col11\" class=\"col_heading level0 col11\" >Name</th>\n",
       "    </tr>\n",
       "  </thead>\n",
       "  <tbody>\n",
       "    <tr>\n",
       "      <th id=\"T_6fc88_level0_row0\" class=\"row_heading level0 row0\" >HomePlanet</th>\n",
       "      <td id=\"T_6fc88_row0_col0\" class=\"data row0 col0\" >201</td>\n",
       "      <td id=\"T_6fc88_row0_col1\" class=\"data row0 col1\" >2</td>\n",
       "      <td id=\"T_6fc88_row0_col2\" class=\"data row0 col2\" >6</td>\n",
       "      <td id=\"T_6fc88_row0_col3\" class=\"data row0 col3\" >4</td>\n",
       "      <td id=\"T_6fc88_row0_col4\" class=\"data row0 col4\" >2</td>\n",
       "      <td id=\"T_6fc88_row0_col5\" class=\"data row0 col5\" >3</td>\n",
       "      <td id=\"T_6fc88_row0_col6\" class=\"data row0 col6\" >6</td>\n",
       "      <td id=\"T_6fc88_row0_col7\" class=\"data row0 col7\" >2</td>\n",
       "      <td id=\"T_6fc88_row0_col8\" class=\"data row0 col8\" >7</td>\n",
       "      <td id=\"T_6fc88_row0_col9\" class=\"data row0 col9\" >3</td>\n",
       "      <td id=\"T_6fc88_row0_col10\" class=\"data row0 col10\" >1</td>\n",
       "      <td id=\"T_6fc88_row0_col11\" class=\"data row0 col11\" >7</td>\n",
       "    </tr>\n",
       "    <tr>\n",
       "      <th id=\"T_6fc88_level0_row1\" class=\"row_heading level0 row1\" >CryoSleep</th>\n",
       "      <td id=\"T_6fc88_row1_col0\" class=\"data row1 col0\" >2</td>\n",
       "      <td id=\"T_6fc88_row1_col1\" class=\"data row1 col1\" >217</td>\n",
       "      <td id=\"T_6fc88_row1_col2\" class=\"data row1 col2\" >7</td>\n",
       "      <td id=\"T_6fc88_row1_col3\" class=\"data row1 col3\" >4</td>\n",
       "      <td id=\"T_6fc88_row1_col4\" class=\"data row1 col4\" >1</td>\n",
       "      <td id=\"T_6fc88_row1_col5\" class=\"data row1 col5\" >7</td>\n",
       "      <td id=\"T_6fc88_row1_col6\" class=\"data row1 col6\" >2</td>\n",
       "      <td id=\"T_6fc88_row1_col7\" class=\"data row1 col7\" >3</td>\n",
       "      <td id=\"T_6fc88_row1_col8\" class=\"data row1 col8\" >8</td>\n",
       "      <td id=\"T_6fc88_row1_col9\" class=\"data row1 col9\" >5</td>\n",
       "      <td id=\"T_6fc88_row1_col10\" class=\"data row1 col10\" >7</td>\n",
       "      <td id=\"T_6fc88_row1_col11\" class=\"data row1 col11\" >10</td>\n",
       "    </tr>\n",
       "    <tr>\n",
       "      <th id=\"T_6fc88_level0_row2\" class=\"row_heading level0 row2\" >Cabin</th>\n",
       "      <td id=\"T_6fc88_row2_col0\" class=\"data row2 col0\" >6</td>\n",
       "      <td id=\"T_6fc88_row2_col1\" class=\"data row2 col1\" >7</td>\n",
       "      <td id=\"T_6fc88_row2_col2\" class=\"data row2 col2\" >199</td>\n",
       "      <td id=\"T_6fc88_row2_col3\" class=\"data row2 col3\" >4</td>\n",
       "      <td id=\"T_6fc88_row2_col4\" class=\"data row2 col4\" >4</td>\n",
       "      <td id=\"T_6fc88_row2_col5\" class=\"data row2 col5\" >6</td>\n",
       "      <td id=\"T_6fc88_row2_col6\" class=\"data row2 col6\" >4</td>\n",
       "      <td id=\"T_6fc88_row2_col7\" class=\"data row2 col7\" >5</td>\n",
       "      <td id=\"T_6fc88_row2_col8\" class=\"data row2 col8\" >2</td>\n",
       "      <td id=\"T_6fc88_row2_col9\" class=\"data row2 col9\" >2</td>\n",
       "      <td id=\"T_6fc88_row2_col10\" class=\"data row2 col10\" >4</td>\n",
       "      <td id=\"T_6fc88_row2_col11\" class=\"data row2 col11\" >2</td>\n",
       "    </tr>\n",
       "    <tr>\n",
       "      <th id=\"T_6fc88_level0_row3\" class=\"row_heading level0 row3\" >Destination</th>\n",
       "      <td id=\"T_6fc88_row3_col0\" class=\"data row3 col0\" >4</td>\n",
       "      <td id=\"T_6fc88_row3_col1\" class=\"data row3 col1\" >4</td>\n",
       "      <td id=\"T_6fc88_row3_col2\" class=\"data row3 col2\" >4</td>\n",
       "      <td id=\"T_6fc88_row3_col3\" class=\"data row3 col3\" >182</td>\n",
       "      <td id=\"T_6fc88_row3_col4\" class=\"data row3 col4\" >3</td>\n",
       "      <td id=\"T_6fc88_row3_col5\" class=\"data row3 col5\" >4</td>\n",
       "      <td id=\"T_6fc88_row3_col6\" class=\"data row3 col6\" >3</td>\n",
       "      <td id=\"T_6fc88_row3_col7\" class=\"data row3 col7\" >6</td>\n",
       "      <td id=\"T_6fc88_row3_col8\" class=\"data row3 col8\" >5</td>\n",
       "      <td id=\"T_6fc88_row3_col9\" class=\"data row3 col9\" >3</td>\n",
       "      <td id=\"T_6fc88_row3_col10\" class=\"data row3 col10\" >2</td>\n",
       "      <td id=\"T_6fc88_row3_col11\" class=\"data row3 col11\" >4</td>\n",
       "    </tr>\n",
       "    <tr>\n",
       "      <th id=\"T_6fc88_level0_row4\" class=\"row_heading level0 row4\" >Age</th>\n",
       "      <td id=\"T_6fc88_row4_col0\" class=\"data row4 col0\" >2</td>\n",
       "      <td id=\"T_6fc88_row4_col1\" class=\"data row4 col1\" >1</td>\n",
       "      <td id=\"T_6fc88_row4_col2\" class=\"data row4 col2\" >4</td>\n",
       "      <td id=\"T_6fc88_row4_col3\" class=\"data row4 col3\" >3</td>\n",
       "      <td id=\"T_6fc88_row4_col4\" class=\"data row4 col4\" >179</td>\n",
       "      <td id=\"T_6fc88_row4_col5\" class=\"data row4 col5\" >6</td>\n",
       "      <td id=\"T_6fc88_row4_col6\" class=\"data row4 col6\" >1</td>\n",
       "      <td id=\"T_6fc88_row4_col7\" class=\"data row4 col7\" >4</td>\n",
       "      <td id=\"T_6fc88_row4_col8\" class=\"data row4 col8\" >4</td>\n",
       "      <td id=\"T_6fc88_row4_col9\" class=\"data row4 col9\" >1</td>\n",
       "      <td id=\"T_6fc88_row4_col10\" class=\"data row4 col10\" >4</td>\n",
       "      <td id=\"T_6fc88_row4_col11\" class=\"data row4 col11\" >3</td>\n",
       "    </tr>\n",
       "    <tr>\n",
       "      <th id=\"T_6fc88_level0_row5\" class=\"row_heading level0 row5\" >VIP</th>\n",
       "      <td id=\"T_6fc88_row5_col0\" class=\"data row5 col0\" >3</td>\n",
       "      <td id=\"T_6fc88_row5_col1\" class=\"data row5 col1\" >7</td>\n",
       "      <td id=\"T_6fc88_row5_col2\" class=\"data row5 col2\" >6</td>\n",
       "      <td id=\"T_6fc88_row5_col3\" class=\"data row5 col3\" >4</td>\n",
       "      <td id=\"T_6fc88_row5_col4\" class=\"data row5 col4\" >6</td>\n",
       "      <td id=\"T_6fc88_row5_col5\" class=\"data row5 col5\" >203</td>\n",
       "      <td id=\"T_6fc88_row5_col6\" class=\"data row5 col6\" >4</td>\n",
       "      <td id=\"T_6fc88_row5_col7\" class=\"data row5 col7\" >4</td>\n",
       "      <td id=\"T_6fc88_row5_col8\" class=\"data row5 col8\" >4</td>\n",
       "      <td id=\"T_6fc88_row5_col9\" class=\"data row5 col9\" >2</td>\n",
       "      <td id=\"T_6fc88_row5_col10\" class=\"data row5 col10\" >1</td>\n",
       "      <td id=\"T_6fc88_row5_col11\" class=\"data row5 col11\" >1</td>\n",
       "    </tr>\n",
       "    <tr>\n",
       "      <th id=\"T_6fc88_level0_row6\" class=\"row_heading level0 row6\" >RoomService</th>\n",
       "      <td id=\"T_6fc88_row6_col0\" class=\"data row6 col0\" >6</td>\n",
       "      <td id=\"T_6fc88_row6_col1\" class=\"data row6 col1\" >2</td>\n",
       "      <td id=\"T_6fc88_row6_col2\" class=\"data row6 col2\" >4</td>\n",
       "      <td id=\"T_6fc88_row6_col3\" class=\"data row6 col3\" >3</td>\n",
       "      <td id=\"T_6fc88_row6_col4\" class=\"data row6 col4\" >1</td>\n",
       "      <td id=\"T_6fc88_row6_col5\" class=\"data row6 col5\" >4</td>\n",
       "      <td id=\"T_6fc88_row6_col6\" class=\"data row6 col6\" >181</td>\n",
       "      <td id=\"T_6fc88_row6_col7\" class=\"data row6 col7\" >2</td>\n",
       "      <td id=\"T_6fc88_row6_col8\" class=\"data row6 col8\" >4</td>\n",
       "      <td id=\"T_6fc88_row6_col9\" class=\"data row6 col9\" >3</td>\n",
       "      <td id=\"T_6fc88_row6_col10\" class=\"data row6 col10\" >2</td>\n",
       "      <td id=\"T_6fc88_row6_col11\" class=\"data row6 col11\" >1</td>\n",
       "    </tr>\n",
       "    <tr>\n",
       "      <th id=\"T_6fc88_level0_row7\" class=\"row_heading level0 row7\" >FoodCourt</th>\n",
       "      <td id=\"T_6fc88_row7_col0\" class=\"data row7 col0\" >2</td>\n",
       "      <td id=\"T_6fc88_row7_col1\" class=\"data row7 col1\" >3</td>\n",
       "      <td id=\"T_6fc88_row7_col2\" class=\"data row7 col2\" >5</td>\n",
       "      <td id=\"T_6fc88_row7_col3\" class=\"data row7 col3\" >6</td>\n",
       "      <td id=\"T_6fc88_row7_col4\" class=\"data row7 col4\" >4</td>\n",
       "      <td id=\"T_6fc88_row7_col5\" class=\"data row7 col5\" >4</td>\n",
       "      <td id=\"T_6fc88_row7_col6\" class=\"data row7 col6\" >2</td>\n",
       "      <td id=\"T_6fc88_row7_col7\" class=\"data row7 col7\" >183</td>\n",
       "      <td id=\"T_6fc88_row7_col8\" class=\"data row7 col8\" >2</td>\n",
       "      <td id=\"T_6fc88_row7_col9\" class=\"data row7 col9\" >5</td>\n",
       "      <td id=\"T_6fc88_row7_col10\" class=\"data row7 col10\" >6</td>\n",
       "      <td id=\"T_6fc88_row7_col11\" class=\"data row7 col11\" >5</td>\n",
       "    </tr>\n",
       "    <tr>\n",
       "      <th id=\"T_6fc88_level0_row8\" class=\"row_heading level0 row8\" >ShoppingMall</th>\n",
       "      <td id=\"T_6fc88_row8_col0\" class=\"data row8 col0\" >7</td>\n",
       "      <td id=\"T_6fc88_row8_col1\" class=\"data row8 col1\" >8</td>\n",
       "      <td id=\"T_6fc88_row8_col2\" class=\"data row8 col2\" >2</td>\n",
       "      <td id=\"T_6fc88_row8_col3\" class=\"data row8 col3\" >5</td>\n",
       "      <td id=\"T_6fc88_row8_col4\" class=\"data row8 col4\" >4</td>\n",
       "      <td id=\"T_6fc88_row8_col5\" class=\"data row8 col5\" >4</td>\n",
       "      <td id=\"T_6fc88_row8_col6\" class=\"data row8 col6\" >4</td>\n",
       "      <td id=\"T_6fc88_row8_col7\" class=\"data row8 col7\" >2</td>\n",
       "      <td id=\"T_6fc88_row8_col8\" class=\"data row8 col8\" >208</td>\n",
       "      <td id=\"T_6fc88_row8_col9\" class=\"data row8 col9\" >2</td>\n",
       "      <td id=\"T_6fc88_row8_col10\" class=\"data row8 col10\" >6</td>\n",
       "      <td id=\"T_6fc88_row8_col11\" class=\"data row8 col11\" >4</td>\n",
       "    </tr>\n",
       "    <tr>\n",
       "      <th id=\"T_6fc88_level0_row9\" class=\"row_heading level0 row9\" >Spa</th>\n",
       "      <td id=\"T_6fc88_row9_col0\" class=\"data row9 col0\" >3</td>\n",
       "      <td id=\"T_6fc88_row9_col1\" class=\"data row9 col1\" >5</td>\n",
       "      <td id=\"T_6fc88_row9_col2\" class=\"data row9 col2\" >2</td>\n",
       "      <td id=\"T_6fc88_row9_col3\" class=\"data row9 col3\" >3</td>\n",
       "      <td id=\"T_6fc88_row9_col4\" class=\"data row9 col4\" >1</td>\n",
       "      <td id=\"T_6fc88_row9_col5\" class=\"data row9 col5\" >2</td>\n",
       "      <td id=\"T_6fc88_row9_col6\" class=\"data row9 col6\" >3</td>\n",
       "      <td id=\"T_6fc88_row9_col7\" class=\"data row9 col7\" >5</td>\n",
       "      <td id=\"T_6fc88_row9_col8\" class=\"data row9 col8\" >2</td>\n",
       "      <td id=\"T_6fc88_row9_col9\" class=\"data row9 col9\" >183</td>\n",
       "      <td id=\"T_6fc88_row9_col10\" class=\"data row9 col10\" >3</td>\n",
       "      <td id=\"T_6fc88_row9_col11\" class=\"data row9 col11\" >6</td>\n",
       "    </tr>\n",
       "    <tr>\n",
       "      <th id=\"T_6fc88_level0_row10\" class=\"row_heading level0 row10\" >VRDeck</th>\n",
       "      <td id=\"T_6fc88_row10_col0\" class=\"data row10 col0\" >1</td>\n",
       "      <td id=\"T_6fc88_row10_col1\" class=\"data row10 col1\" >7</td>\n",
       "      <td id=\"T_6fc88_row10_col2\" class=\"data row10 col2\" >4</td>\n",
       "      <td id=\"T_6fc88_row10_col3\" class=\"data row10 col3\" >2</td>\n",
       "      <td id=\"T_6fc88_row10_col4\" class=\"data row10 col4\" >4</td>\n",
       "      <td id=\"T_6fc88_row10_col5\" class=\"data row10 col5\" >1</td>\n",
       "      <td id=\"T_6fc88_row10_col6\" class=\"data row10 col6\" >2</td>\n",
       "      <td id=\"T_6fc88_row10_col7\" class=\"data row10 col7\" >6</td>\n",
       "      <td id=\"T_6fc88_row10_col8\" class=\"data row10 col8\" >6</td>\n",
       "      <td id=\"T_6fc88_row10_col9\" class=\"data row10 col9\" >3</td>\n",
       "      <td id=\"T_6fc88_row10_col10\" class=\"data row10 col10\" >188</td>\n",
       "      <td id=\"T_6fc88_row10_col11\" class=\"data row10 col11\" >4</td>\n",
       "    </tr>\n",
       "    <tr>\n",
       "      <th id=\"T_6fc88_level0_row11\" class=\"row_heading level0 row11\" >Name</th>\n",
       "      <td id=\"T_6fc88_row11_col0\" class=\"data row11 col0\" >7</td>\n",
       "      <td id=\"T_6fc88_row11_col1\" class=\"data row11 col1\" >10</td>\n",
       "      <td id=\"T_6fc88_row11_col2\" class=\"data row11 col2\" >2</td>\n",
       "      <td id=\"T_6fc88_row11_col3\" class=\"data row11 col3\" >4</td>\n",
       "      <td id=\"T_6fc88_row11_col4\" class=\"data row11 col4\" >3</td>\n",
       "      <td id=\"T_6fc88_row11_col5\" class=\"data row11 col5\" >1</td>\n",
       "      <td id=\"T_6fc88_row11_col6\" class=\"data row11 col6\" >1</td>\n",
       "      <td id=\"T_6fc88_row11_col7\" class=\"data row11 col7\" >5</td>\n",
       "      <td id=\"T_6fc88_row11_col8\" class=\"data row11 col8\" >4</td>\n",
       "      <td id=\"T_6fc88_row11_col9\" class=\"data row11 col9\" >6</td>\n",
       "      <td id=\"T_6fc88_row11_col10\" class=\"data row11 col10\" >4</td>\n",
       "      <td id=\"T_6fc88_row11_col11\" class=\"data row11 col11\" >200</td>\n",
       "    </tr>\n",
       "  </tbody>\n",
       "</table>\n"
      ],
      "text/plain": [
       "<pandas.io.formats.style.Styler at 0x2ab3d542340>"
      ]
     },
     "execution_count": 16,
     "metadata": {},
     "output_type": "execute_result"
    }
   ],
   "source": [
    "nullsum_combine.style.background_gradient(cmap='cividis')"
   ]
  },
  {
   "cell_type": "code",
   "execution_count": 17,
   "metadata": {},
   "outputs": [
    {
     "data": {
      "image/png": "[encoded data removed]",
      "text/plain": [
       "<Figure size 1800x720 with 2 Axes>"
      ]
     },
     "metadata": {},
     "output_type": "display_data"
    }
   ],
   "source": [
    "# visualize the missing values\n",
    "msno.matrix(train);"
   ]
  },
  {
   "cell_type": "code",
   "execution_count": 18,
   "metadata": {},
   "outputs": [
    {
     "data": {
      "image/png": "[encoded data removed]",
      "text/plain": [
       "<Figure size 1440x864 with 2 Axes>"
      ]
     },
     "metadata": {},
     "output_type": "display_data"
    }
   ],
   "source": [
    "# see how strongly the presence or absence of one variable affects the presence of another\n",
    "msno.heatmap(train, cmap='coolwarm');"
   ]
  },
  {
   "cell_type": "markdown",
   "metadata": {},
   "source": [
    "The rows of the DataFrame above show how many missing values there are for that column name.\n",
    "The columns represents a DataFrame that has all the missing values present for the respective column name. \n",
    "\n",
    "In essence, we are looking to see if the missing values overlap a lot between columns. And it appears that they are more or less exclusive from each other which is represented by the diagonal of larger numbers. \n",
    "<li>The matrix of missing values also show similar thing. </li>\n",
    "<li>The heatmap confirms that there's little to no correlation between missing variables. It could be concluded that the data is Missing Completely At Random (MCAR) or at least Missing At Random (MAR).</li>\n",
    "<li>It's probably safe to impute the missing data as they are likely to be MCAR or MAR.</li>\n",
    "<br>\n",
    "Before we impute the missing data, we must first understand the relationship between features and see if we can make an educated guess as to what to impute them with."
   ]
  },
  {
   "cell_type": "markdown",
   "metadata": {},
   "source": [
    "## Numerical Features"
   ]
  },
  {
   "cell_type": "code",
   "execution_count": 19,
   "metadata": {},
   "outputs": [
    {
     "data": {
      "image/png": "[encoded data removed]",
      "text/plain": [
       "<Figure size 1000x1000 with 6 Axes>"
      ]
     },
     "metadata": {},
     "output_type": "display_data"
    }
   ],
   "source": [
    "num_cols = ['Age', 'RoomService', 'FoodCourt', 'ShoppingMall', 'Spa', 'VRDeck']\n",
    "\n",
    "fig, ax = plt.subplots(figsize=(10,10), dpi=100, nrows=6)\n",
    "\n",
    "fig.suptitle('Distribution of Numerical Variables')\n",
    "\n",
    "for i, col in enumerate(num_cols):\n",
    "    sns.histplot(data=train, x=col, ax=ax[i], bins=20, color=CMAP[i])\n",
    "\n",
    "fig.tight_layout() \n",
    "    "
   ]
  },
  {
   "cell_type": "code",
   "execution_count": 20,
   "metadata": {},
   "outputs": [
    {
     "data": {
      "image/png": "[encoded data removed]",
      "text/plain": [
       "<Figure size 500x1000 with 5 Axes>"
      ]
     },
     "metadata": {},
     "output_type": "display_data"
    }
   ],
   "source": [
    "# zoom in the distribution\n",
    "spend_cols = ['RoomService', 'FoodCourt', 'ShoppingMall', 'Spa', 'VRDeck']\n",
    "\n",
    "fig, ax = plt.subplots(figsize=(5,10), dpi=100, nrows=5)\n",
    "fig.suptitle('Distribution of Expenditures up to 100 people')\n",
    "\n",
    "for i, col in enumerate(spend_cols):\n",
    "    sns.histplot(data=train, x=col,ax=ax[i], bins=20, color=CMAP[i])\n",
    "    ax[i].set_ylim(0,100)\n",
    "\n",
    "fig.tight_layout()\n",
    "    "
   ]
  },
  {
   "cell_type": "code",
   "execution_count": 21,
   "metadata": {},
   "outputs": [
    {
     "data": {
      "text/plain": [
       "3247"
      ]
     },
     "execution_count": 21,
     "metadata": {},
     "output_type": "execute_result"
    }
   ],
   "source": [
    "# see how many people not spend any money on any of the services/entertainment\n",
    "zero_spend = train.query('RoomService==0 and FoodCourt==0 and ShoppingMall==0 and Spa==0 and VRDeck==0')\n",
    "zero_spend['PassengerId'].count()"
   ]
  },
  {
   "cell_type": "markdown",
   "metadata": {},
   "source": [
    "We could make two new features here, total spending on luxury amenities and a binary variable to see if they spent any money or not."
   ]
  },
  {
   "cell_type": "code",
   "execution_count": 22,
   "metadata": {},
   "outputs": [],
   "source": [
    "luxury_amenities = ['RoomService', 'FoodCourt', 'ShoppingMall', 'Spa', 'VRDeck']\n",
    "\n",
    "train['LuxurySpend'] = train[luxury_amenities].sum(axis=1)\n",
    "train['ZeroSpend'] = (train['LuxurySpend']==0)\n",
    "\n",
    "# do the same for test data\n",
    "test['LuxurySpend'] = test[luxury_amenities].sum(axis=1)\n",
    "test['ZeroSpend'] = (test['LuxurySpend']==0)"
   ]
  },
  {
   "cell_type": "code",
   "execution_count": 23,
   "metadata": {},
   "outputs": [
    {
     "data": {
      "image/png": "[encoded data removed]",
      "text/plain": [
       "<Figure size 432x288 with 1 Axes>"
      ]
     },
     "metadata": {},
     "output_type": "display_data"
    }
   ],
   "source": [
    "sns.countplot(data=train, x='ZeroSpend', hue='Transported', palette=CMAP);"
   ]
  },
  {
   "cell_type": "markdown",
   "metadata": {},
   "source": [
    "<li>The 'Age' of the passengers are right-skewed, most of the passengers are in their 20s. We could impute the missing values for 'Age' with the median.</li>\n",
    "\n",
    "<li>There are many \"outliers\" for the luxury spending in this dataset. But they are not outliers, it is the distribution of the data. </li>\n",
    "<li>Most people do not spend any money on the luxury amenities.</li>\n",
    "<li>People with no spending on luxury amenities are more likely to be transported.</li>"
   ]
  },
  {
   "cell_type": "markdown",
   "metadata": {},
   "source": [
    "## Categorical Features\n",
    "\n",
    "It seems reasonable to simply impute these columns with mode. However, before we commit. We should probably inspect them first. Maybe we can find some patterns that could help us make a more informed imputation."
   ]
  },
  {
   "cell_type": "markdown",
   "metadata": {},
   "source": [
    "### Passenger Id\n",
    "\n",
    "From the data description, the passenger ids are written in a gggg_pp form with gggg denoting the group and pp the passenger's number within the group. This column can be splitted to two to extract the information. Since it's one of two columns that has no missing values, it can be useful for imputation."
   ]
  },
  {
   "cell_type": "code",
   "execution_count": 24,
   "metadata": {},
   "outputs": [],
   "source": [
    "train[['PassengerGroup', 'PassengerGroupNumber']] = train['PassengerId'].str.split('_', expand=True)\n",
    "\n",
    "test[['PassengerGroup', 'PassengerGroupNumber']] = test['PassengerId'].str.split('_', expand=True)"
   ]
  },
  {
   "cell_type": "markdown",
   "metadata": {},
   "source": [
    "Get the size of the group by counting the occurence of every element in PassengerGroup. There are many ways to do this but I like this approach cause it's fast compared to apply with value_counts(). "
   ]
  },
  {
   "cell_type": "code",
   "execution_count": 25,
   "metadata": {},
   "outputs": [],
   "source": [
    "from collections import Counter\n",
    "\n",
    "train_group_counter = np.vectorize(Counter(train.PassengerGroup).get)\n",
    "train['GroupSize'] = train_group_counter(train.PassengerGroup)\n",
    "\n",
    "test_group_counter = np.vectorize(Counter(test.PassengerGroup).get)\n",
    "test['GroupSize'] = test_group_counter(test.PassengerGroup)"
   ]
  },
  {
   "cell_type": "code",
   "execution_count": 26,
   "metadata": {},
   "outputs": [],
   "source": [
    "# convert column to int\n",
    "train['PassengerGroup'] = train['PassengerGroup'].astype(int)\n",
    "\n",
    "test['PassengerGroup'] = test['PassengerGroup'].astype(int)"
   ]
  },
  {
   "cell_type": "code",
   "execution_count": 27,
   "metadata": {},
   "outputs": [
    {
     "data": {
      "image/png": "[encoded data removed]",
      "text/plain": [
       "<Figure size 2400x1200 with 2 Axes>"
      ]
     },
     "metadata": {},
     "output_type": "display_data"
    }
   ],
   "source": [
    "# plot new features\n",
    "fig, ax = plt.subplots(nrows=1, ncols=2, figsize=(12,6), dpi=200)\n",
    "\n",
    "sns.histplot(data=train, x='PassengerGroup', hue='Transported', ax=ax[0], bins=200)\n",
    "ax[0].set_title('Passenger Group')\n",
    "\n",
    "sns.countplot(data=train, x='GroupSize', hue='Transported', ax=ax[1], palette=CMAP)\n",
    "ax[1].set_title('Group Size')\n",
    "\n",
    "fig.tight_layout()\n",
    "plt.show()\n"
   ]
  },
  {
   "cell_type": "markdown",
   "metadata": {},
   "source": [
    "<li>Not much information can be extracted from Passenger Group by itself. There are simply too many unique values for it to be useful as a feature.</li>\n",
    "<li>Group Size on the other hand, shows something interesting. It appears that people travelling alone are less likely to be transported.</li>"
   ]
  },
  {
   "cell_type": "code",
   "execution_count": 28,
   "metadata": {},
   "outputs": [],
   "source": [
    "# create new feature, True if alone, False if not.\n",
    "train['Alone'] = (train['GroupSize']==1)\n",
    "\n",
    "test['Alone'] = (test['GroupSize']==1)"
   ]
  },
  {
   "cell_type": "code",
   "execution_count": 29,
   "metadata": {},
   "outputs": [
    {
     "data": {
      "image/png": "[encoded data removed]",
      "text/plain": [
       "<Figure size 432x288 with 1 Axes>"
      ]
     },
     "metadata": {},
     "output_type": "display_data"
    }
   ],
   "source": [
    "sns.countplot(data=train, x='Alone', hue='Transported', palette=CMAP);"
   ]
  },
  {
   "cell_type": "markdown",
   "metadata": {},
   "source": [
    "### Cabin\n",
    "\n",
    "The Cabin column has a Deck/Num/Side formatting to it. Separate them into three columns to extract its information."
   ]
  },
  {
   "cell_type": "code",
   "execution_count": 30,
   "metadata": {},
   "outputs": [],
   "source": [
    "train[['CabinDeck', 'CabinNum', 'CabinSide']] = train['Cabin'].str.split('/', expand=True)\n",
    "\n",
    "test[['CabinDeck', 'CabinNum', 'CabinSide']] = test['Cabin'].str.split('/', expand=True)"
   ]
  },
  {
   "cell_type": "code",
   "execution_count": 31,
   "metadata": {},
   "outputs": [],
   "source": [
    "# convert cabin num to integer while preserving the nan values\n",
    "train['CabinNum']= [int(num) if num is not np.nan else num for num in train.CabinNum]\n",
    "\n",
    "test['CabinNum']= [int(num) if num is not np.nan else num for num in test.CabinNum]"
   ]
  },
  {
   "cell_type": "code",
   "execution_count": 32,
   "metadata": {},
   "outputs": [
    {
     "data": {
      "image/png": "[encoded data removed]",
      "text/plain": [
       "<Figure size 864x1728 with 3 Axes>"
      ]
     },
     "metadata": {},
     "output_type": "display_data"
    }
   ],
   "source": [
    "fig, axes = plt.subplots(figsize=(12, 24), nrows=3, ncols=1)\n",
    "deck_order = ['A', 'B', 'C', 'D', 'E', 'F', 'G', 'T']\n",
    "# cabin deck\n",
    "sns.countplot(data=train, x='CabinDeck', hue='Transported', ax=axes[0], order=deck_order, palette=CMAP[:2])\n",
    "\n",
    "# cabin num\n",
    "sns.histplot(data=train, x='CabinNum', binwidth=25, hue='Transported', ax=axes[1], palette=CMAP[:2])\n",
    "axes[1].set_xticks(range(0, 2000, 100))\n",
    "# cabin side\n",
    "sns.countplot(data=train, x='CabinSide', hue='Transported', ax=axes[2], palette=CMAP[:2])\n",
    "\n",
    "fig.tight_layout()\n",
    "plt.show()"
   ]
  },
  {
   "cell_type": "markdown",
   "metadata": {},
   "source": [
    "<li>Most people stay in Deck F or G.</li>\n",
    "<li>There are 5 distinct groups based on the cabin numbers. We can see how the count fluctuates in a pattern between Transported and not Transported.</li>\n",
    "<li>Passengers on the starboard side (S) are more likely to be transported.</li>"
   ]
  },
  {
   "cell_type": "markdown",
   "metadata": {},
   "source": [
    "#### Cabin Deck"
   ]
  },
  {
   "cell_type": "code",
   "execution_count": 33,
   "metadata": {},
   "outputs": [
    {
     "data": {
      "image/png": "[encoded data removed]",
      "text/plain": [
       "<Figure size 720x720 with 1 Axes>"
      ]
     },
     "metadata": {},
     "output_type": "display_data"
    }
   ],
   "source": [
    "plt.figure(figsize=(10,10))\n",
    "sns.countplot(data=train, x='CabinDeck', order=deck_order, palette=CMAP, hue='HomePlanet');"
   ]
  },
  {
   "cell_type": "code",
   "execution_count": 34,
   "metadata": {},
   "outputs": [
    {
     "data": {
      "text/html": [
       "<style type=\"text/css\">\n",
       "#T_d2d53_row0_col0, #T_d2d53_row0_col1, #T_d2d53_row0_col2, #T_d2d53_row0_col3, #T_d2d53_row0_col7, #T_d2d53_row1_col4, #T_d2d53_row1_col5, #T_d2d53_row1_col6, #T_d2d53_row2_col0, #T_d2d53_row2_col1, #T_d2d53_row2_col2, #T_d2d53_row2_col6, #T_d2d53_row2_col7 {\n",
       "  background-color: #00224e;\n",
       "  color: #f1f1f1;\n",
       "}\n",
       "#T_d2d53_row0_col4, #T_d2d53_row0_col5, #T_d2d53_row0_col6, #T_d2d53_row1_col0, #T_d2d53_row1_col1, #T_d2d53_row1_col2, #T_d2d53_row1_col7, #T_d2d53_row2_col3 {\n",
       "  background-color: #fee838;\n",
       "  color: #000000;\n",
       "}\n",
       "#T_d2d53_row1_col3 {\n",
       "  background-color: #a39a74;\n",
       "  color: #f1f1f1;\n",
       "}\n",
       "#T_d2d53_row2_col4 {\n",
       "  background-color: #bdae6c;\n",
       "  color: #000000;\n",
       "}\n",
       "#T_d2d53_row2_col5 {\n",
       "  background-color: #aba072;\n",
       "  color: #f1f1f1;\n",
       "}\n",
       "</style>\n",
       "<table id=\"T_d2d53\">\n",
       "  <thead>\n",
       "    <tr>\n",
       "      <th class=\"index_name level0\" >CabinDeck</th>\n",
       "      <th id=\"T_d2d53_level0_col0\" class=\"col_heading level0 col0\" >A</th>\n",
       "      <th id=\"T_d2d53_level0_col1\" class=\"col_heading level0 col1\" >B</th>\n",
       "      <th id=\"T_d2d53_level0_col2\" class=\"col_heading level0 col2\" >C</th>\n",
       "      <th id=\"T_d2d53_level0_col3\" class=\"col_heading level0 col3\" >D</th>\n",
       "      <th id=\"T_d2d53_level0_col4\" class=\"col_heading level0 col4\" >E</th>\n",
       "      <th id=\"T_d2d53_level0_col5\" class=\"col_heading level0 col5\" >F</th>\n",
       "      <th id=\"T_d2d53_level0_col6\" class=\"col_heading level0 col6\" >G</th>\n",
       "      <th id=\"T_d2d53_level0_col7\" class=\"col_heading level0 col7\" >T</th>\n",
       "    </tr>\n",
       "    <tr>\n",
       "      <th class=\"index_name level0\" >HomePlanet</th>\n",
       "      <th class=\"blank col0\" >&nbsp;</th>\n",
       "      <th class=\"blank col1\" >&nbsp;</th>\n",
       "      <th class=\"blank col2\" >&nbsp;</th>\n",
       "      <th class=\"blank col3\" >&nbsp;</th>\n",
       "      <th class=\"blank col4\" >&nbsp;</th>\n",
       "      <th class=\"blank col5\" >&nbsp;</th>\n",
       "      <th class=\"blank col6\" >&nbsp;</th>\n",
       "      <th class=\"blank col7\" >&nbsp;</th>\n",
       "    </tr>\n",
       "  </thead>\n",
       "  <tbody>\n",
       "    <tr>\n",
       "      <th id=\"T_d2d53_level0_row0\" class=\"row_heading level0 row0\" >Earth</th>\n",
       "      <td id=\"T_d2d53_row0_col0\" class=\"data row0 col0\" >0</td>\n",
       "      <td id=\"T_d2d53_row0_col1\" class=\"data row0 col1\" >0</td>\n",
       "      <td id=\"T_d2d53_row0_col2\" class=\"data row0 col2\" >0</td>\n",
       "      <td id=\"T_d2d53_row0_col3\" class=\"data row0 col3\" >0</td>\n",
       "      <td id=\"T_d2d53_row0_col4\" class=\"data row0 col4\" >395</td>\n",
       "      <td id=\"T_d2d53_row0_col5\" class=\"data row0 col5\" >1614</td>\n",
       "      <td id=\"T_d2d53_row0_col6\" class=\"data row0 col6\" >2498</td>\n",
       "      <td id=\"T_d2d53_row0_col7\" class=\"data row0 col7\" >0</td>\n",
       "    </tr>\n",
       "    <tr>\n",
       "      <th id=\"T_d2d53_level0_row1\" class=\"row_heading level0 row1\" >Europa</th>\n",
       "      <td id=\"T_d2d53_row1_col0\" class=\"data row1 col0\" >252</td>\n",
       "      <td id=\"T_d2d53_row1_col1\" class=\"data row1 col1\" >766</td>\n",
       "      <td id=\"T_d2d53_row1_col2\" class=\"data row1 col2\" >734</td>\n",
       "      <td id=\"T_d2d53_row1_col3\" class=\"data row1 col3\" >186</td>\n",
       "      <td id=\"T_d2d53_row1_col4\" class=\"data row1 col4\" >128</td>\n",
       "      <td id=\"T_d2d53_row1_col5\" class=\"data row1 col5\" >0</td>\n",
       "      <td id=\"T_d2d53_row1_col6\" class=\"data row1 col6\" >0</td>\n",
       "      <td id=\"T_d2d53_row1_col7\" class=\"data row1 col7\" >4</td>\n",
       "    </tr>\n",
       "    <tr>\n",
       "      <th id=\"T_d2d53_level0_row2\" class=\"row_heading level0 row2\" >Mars</th>\n",
       "      <td id=\"T_d2d53_row2_col0\" class=\"data row2 col0\" >0</td>\n",
       "      <td id=\"T_d2d53_row2_col1\" class=\"data row2 col1\" >0</td>\n",
       "      <td id=\"T_d2d53_row2_col2\" class=\"data row2 col2\" >0</td>\n",
       "      <td id=\"T_d2d53_row2_col3\" class=\"data row2 col3\" >282</td>\n",
       "      <td id=\"T_d2d53_row2_col4\" class=\"data row2 col4\" >330</td>\n",
       "      <td id=\"T_d2d53_row2_col5\" class=\"data row2 col5\" >1110</td>\n",
       "      <td id=\"T_d2d53_row2_col6\" class=\"data row2 col6\" >0</td>\n",
       "      <td id=\"T_d2d53_row2_col7\" class=\"data row2 col7\" >0</td>\n",
       "    </tr>\n",
       "  </tbody>\n",
       "</table>\n"
      ],
      "text/plain": [
       "<pandas.io.formats.style.Styler at 0x2ab3e372880>"
      ]
     },
     "execution_count": 34,
     "metadata": {},
     "output_type": "execute_result"
    }
   ],
   "source": [
    "# see the graph in numbers\n",
    "pd.crosstab(train['HomePlanet'], train['CabinDeck']).style.background_gradient(cmap='cividis')"
   ]
  },
  {
   "cell_type": "code",
   "execution_count": 35,
   "metadata": {},
   "outputs": [
    {
     "data": {
      "text/html": [
       "<div>\n",
       "<style scoped>\n",
       "    .dataframe tbody tr th:only-of-type {\n",
       "        vertical-align: middle;\n",
       "    }\n",
       "\n",
       "    .dataframe tbody tr th {\n",
       "        vertical-align: top;\n",
       "    }\n",
       "\n",
       "    .dataframe thead th {\n",
       "        text-align: right;\n",
       "    }\n",
       "</style>\n",
       "<table border=\"1\" class=\"dataframe\">\n",
       "  <thead>\n",
       "    <tr style=\"text-align: right;\">\n",
       "      <th></th>\n",
       "      <th>PassengerId</th>\n",
       "      <th>HomePlanet</th>\n",
       "      <th>CryoSleep</th>\n",
       "      <th>Cabin</th>\n",
       "      <th>Destination</th>\n",
       "      <th>Age</th>\n",
       "      <th>VIP</th>\n",
       "      <th>RoomService</th>\n",
       "      <th>FoodCourt</th>\n",
       "      <th>ShoppingMall</th>\n",
       "      <th>...</th>\n",
       "      <th>Transported</th>\n",
       "      <th>LuxurySpend</th>\n",
       "      <th>ZeroSpend</th>\n",
       "      <th>PassengerGroup</th>\n",
       "      <th>PassengerGroupNumber</th>\n",
       "      <th>GroupSize</th>\n",
       "      <th>Alone</th>\n",
       "      <th>CabinDeck</th>\n",
       "      <th>CabinNum</th>\n",
       "      <th>CabinSide</th>\n",
       "    </tr>\n",
       "  </thead>\n",
       "  <tbody>\n",
       "    <tr>\n",
       "      <th>1004</th>\n",
       "      <td>1071_01</td>\n",
       "      <td>NaN</td>\n",
       "      <td>False</td>\n",
       "      <td>T/0/P</td>\n",
       "      <td>TRAPPIST-1e</td>\n",
       "      <td>35.0</td>\n",
       "      <td>False</td>\n",
       "      <td>415.0</td>\n",
       "      <td>1328.0</td>\n",
       "      <td>0.0</td>\n",
       "      <td>...</td>\n",
       "      <td>False</td>\n",
       "      <td>1817.0</td>\n",
       "      <td>False</td>\n",
       "      <td>1071</td>\n",
       "      <td>01</td>\n",
       "      <td>1</td>\n",
       "      <td>True</td>\n",
       "      <td>T</td>\n",
       "      <td>0.0</td>\n",
       "      <td>P</td>\n",
       "    </tr>\n",
       "    <tr>\n",
       "      <th>2254</th>\n",
       "      <td>2414_01</td>\n",
       "      <td>Europa</td>\n",
       "      <td>False</td>\n",
       "      <td>T/1/P</td>\n",
       "      <td>TRAPPIST-1e</td>\n",
       "      <td>42.0</td>\n",
       "      <td>False</td>\n",
       "      <td>0.0</td>\n",
       "      <td>1829.0</td>\n",
       "      <td>2.0</td>\n",
       "      <td>...</td>\n",
       "      <td>False</td>\n",
       "      <td>7411.0</td>\n",
       "      <td>False</td>\n",
       "      <td>2414</td>\n",
       "      <td>01</td>\n",
       "      <td>1</td>\n",
       "      <td>True</td>\n",
       "      <td>T</td>\n",
       "      <td>1.0</td>\n",
       "      <td>P</td>\n",
       "    </tr>\n",
       "    <tr>\n",
       "      <th>2734</th>\n",
       "      <td>2935_01</td>\n",
       "      <td>Europa</td>\n",
       "      <td>False</td>\n",
       "      <td>T/2/P</td>\n",
       "      <td>TRAPPIST-1e</td>\n",
       "      <td>33.0</td>\n",
       "      <td>False</td>\n",
       "      <td>0.0</td>\n",
       "      <td>28.0</td>\n",
       "      <td>0.0</td>\n",
       "      <td>...</td>\n",
       "      <td>False</td>\n",
       "      <td>7412.0</td>\n",
       "      <td>False</td>\n",
       "      <td>2935</td>\n",
       "      <td>01</td>\n",
       "      <td>1</td>\n",
       "      <td>True</td>\n",
       "      <td>T</td>\n",
       "      <td>2.0</td>\n",
       "      <td>P</td>\n",
       "    </tr>\n",
       "    <tr>\n",
       "      <th>2763</th>\n",
       "      <td>2971_01</td>\n",
       "      <td>Europa</td>\n",
       "      <td>False</td>\n",
       "      <td>T/3/P</td>\n",
       "      <td>TRAPPIST-1e</td>\n",
       "      <td>38.0</td>\n",
       "      <td>False</td>\n",
       "      <td>0.0</td>\n",
       "      <td>3135.0</td>\n",
       "      <td>0.0</td>\n",
       "      <td>...</td>\n",
       "      <td>True</td>\n",
       "      <td>3164.0</td>\n",
       "      <td>False</td>\n",
       "      <td>2971</td>\n",
       "      <td>01</td>\n",
       "      <td>1</td>\n",
       "      <td>True</td>\n",
       "      <td>T</td>\n",
       "      <td>3.0</td>\n",
       "      <td>P</td>\n",
       "    </tr>\n",
       "    <tr>\n",
       "      <th>4565</th>\n",
       "      <td>4863_01</td>\n",
       "      <td>Europa</td>\n",
       "      <td>NaN</td>\n",
       "      <td>T/2/S</td>\n",
       "      <td>TRAPPIST-1e</td>\n",
       "      <td>37.0</td>\n",
       "      <td>False</td>\n",
       "      <td>1721.0</td>\n",
       "      <td>667.0</td>\n",
       "      <td>NaN</td>\n",
       "      <td>...</td>\n",
       "      <td>False</td>\n",
       "      <td>3778.0</td>\n",
       "      <td>False</td>\n",
       "      <td>4863</td>\n",
       "      <td>01</td>\n",
       "      <td>1</td>\n",
       "      <td>True</td>\n",
       "      <td>T</td>\n",
       "      <td>2.0</td>\n",
       "      <td>S</td>\n",
       "    </tr>\n",
       "  </tbody>\n",
       "</table>\n",
       "<p>5 rows × 23 columns</p>\n",
       "</div>"
      ],
      "text/plain": [
       "     PassengerId HomePlanet CryoSleep  Cabin  Destination   Age    VIP  \\\n",
       "1004     1071_01        NaN     False  T/0/P  TRAPPIST-1e  35.0  False   \n",
       "2254     2414_01     Europa     False  T/1/P  TRAPPIST-1e  42.0  False   \n",
       "2734     2935_01     Europa     False  T/2/P  TRAPPIST-1e  33.0  False   \n",
       "2763     2971_01     Europa     False  T/3/P  TRAPPIST-1e  38.0  False   \n",
       "4565     4863_01     Europa       NaN  T/2/S  TRAPPIST-1e  37.0  False   \n",
       "\n",
       "      RoomService  FoodCourt  ShoppingMall  ...  Transported  LuxurySpend  \\\n",
       "1004        415.0     1328.0           0.0  ...        False       1817.0   \n",
       "2254          0.0     1829.0           2.0  ...        False       7411.0   \n",
       "2734          0.0       28.0           0.0  ...        False       7412.0   \n",
       "2763          0.0     3135.0           0.0  ...         True       3164.0   \n",
       "4565       1721.0      667.0           NaN  ...        False       3778.0   \n",
       "\n",
       "     ZeroSpend  PassengerGroup  PassengerGroupNumber  GroupSize  Alone  \\\n",
       "1004     False            1071                    01          1   True   \n",
       "2254     False            2414                    01          1   True   \n",
       "2734     False            2935                    01          1   True   \n",
       "2763     False            2971                    01          1   True   \n",
       "4565     False            4863                    01          1   True   \n",
       "\n",
       "     CabinDeck  CabinNum  CabinSide  \n",
       "1004         T       0.0          P  \n",
       "2254         T       1.0          P  \n",
       "2734         T       2.0          P  \n",
       "2763         T       3.0          P  \n",
       "4565         T       2.0          S  \n",
       "\n",
       "[5 rows x 23 columns]"
      ]
     },
     "execution_count": 35,
     "metadata": {},
     "output_type": "execute_result"
    }
   ],
   "source": [
    "train[train['CabinDeck']=='T']"
   ]
  },
  {
   "cell_type": "markdown",
   "metadata": {},
   "source": [
    "<li>Deck A, B, C, and T are all from Europa.</li>\n",
    "<li>Deck D, E, and F are a mixture or two or three HomePlanet.</li>\n",
    "<li>People from Earth are only in Deck E, F, or G.</li>\n",
    "<li>Deck G only has passengers from Earth.</li>\n",
    "<li>Deck T is a small deck with only a few people</li>"
   ]
  },
  {
   "cell_type": "markdown",
   "metadata": {},
   "source": [
    "#### Cabin Number\n",
    "\n",
    "There are five discernable group based on 'CabinNum' and 'Transported. \n",
    "Here are the rough grouping:\n",
    "<li>Group 1: Cabin number 0-300</li>\n",
    "<li>Group 2: Cabin number 300-600</li>\n",
    "<li>Group 3: Cabin number 600-1200</li>\n",
    "<li>Group 4: Cabin number 1200-1500</li>\n",
    "<li>Group 5: Cabin number >1500</li>\n"
   ]
  },
  {
   "cell_type": "code",
   "execution_count": 36,
   "metadata": {},
   "outputs": [],
   "source": [
    "train.loc[train.CabinNum <= 300, 'CabinGroup'] = 'Group 1'\n",
    "train.loc[(300 < train.CabinNum) & (train.CabinNum <= 600), 'CabinGroup'] = 'Group 2'\n",
    "train.loc[(600 < train.CabinNum) & (train.CabinNum <= 1200), 'CabinGroup'] = 'Group 3'\n",
    "train.loc[(1200 < train.CabinNum) & (train.CabinNum <= 1500), 'CabinGroup'] = 'Group 4'\n",
    "train.loc[train.CabinNum > 1500, 'CabinGroup'] = 'Group 5'\n",
    "\n",
    "# repeat for test data\n",
    "test.loc[test.CabinNum <= 300, 'CabinGroup'] = 'Group 1'\n",
    "test.loc[(300 < test.CabinNum) & (test.CabinNum <= 600), 'CabinGroup'] = 'Group 2'\n",
    "test.loc[(600 < test.CabinNum) & (test.CabinNum <= 1200), 'CabinGroup'] = 'Group 3'\n",
    "test.loc[(1200 < test.CabinNum) & (test.CabinNum <= 1500), 'CabinGroup'] = 'Group 4'\n",
    "test.loc[test.CabinNum > 1500, 'CabinGroup'] = 'Group 5'\n"
   ]
  },
  {
   "cell_type": "code",
   "execution_count": 37,
   "metadata": {},
   "outputs": [
    {
     "data": {
      "text/plain": [
       "Group 1    3569\n",
       "Group 3    1967\n",
       "Group 2    1484\n",
       "Group 4     937\n",
       "Group 5     537\n",
       "Name: CabinGroup, dtype: int64"
      ]
     },
     "execution_count": 37,
     "metadata": {},
     "output_type": "execute_result"
    }
   ],
   "source": [
    "train.CabinGroup.value_counts()"
   ]
  },
  {
   "cell_type": "code",
   "execution_count": 38,
   "metadata": {},
   "outputs": [
    {
     "data": {
      "image/png": "[encoded data removed]",
      "text/plain": [
       "<Figure size 720x576 with 1 Axes>"
      ]
     },
     "metadata": {},
     "output_type": "display_data"
    }
   ],
   "source": [
    "plt.figure(figsize=(10,8))\n",
    "sns.countplot(data=train, x='CabinGroup', hue='HomePlanet', palette=CMAP);"
   ]
  },
  {
   "cell_type": "code",
   "execution_count": 39,
   "metadata": {},
   "outputs": [
    {
     "data": {
      "text/html": [
       "<style type=\"text/css\">\n",
       "#T_5ac6a_row0_col0 {\n",
       "  background-color: #48526c;\n",
       "  color: #f1f1f1;\n",
       "}\n",
       "#T_5ac6a_row0_col1, #T_5ac6a_row0_col2, #T_5ac6a_row0_col3, #T_5ac6a_row0_col4, #T_5ac6a_row1_col0 {\n",
       "  background-color: #fee838;\n",
       "  color: #000000;\n",
       "}\n",
       "#T_5ac6a_row1_col1, #T_5ac6a_row1_col2, #T_5ac6a_row1_col3, #T_5ac6a_row1_col4, #T_5ac6a_row2_col0 {\n",
       "  background-color: #00224e;\n",
       "  color: #f1f1f1;\n",
       "}\n",
       "#T_5ac6a_row2_col1 {\n",
       "  background-color: #32436d;\n",
       "  color: #f1f1f1;\n",
       "}\n",
       "#T_5ac6a_row2_col2 {\n",
       "  background-color: #434e6c;\n",
       "  color: #f1f1f1;\n",
       "}\n",
       "#T_5ac6a_row2_col3 {\n",
       "  background-color: #3c4a6c;\n",
       "  color: #f1f1f1;\n",
       "}\n",
       "#T_5ac6a_row2_col4 {\n",
       "  background-color: #938e78;\n",
       "  color: #f1f1f1;\n",
       "}\n",
       "</style>\n",
       "<table id=\"T_5ac6a\">\n",
       "  <thead>\n",
       "    <tr>\n",
       "      <th class=\"index_name level0\" >CabinGroup</th>\n",
       "      <th id=\"T_5ac6a_level0_col0\" class=\"col_heading level0 col0\" >Group 1</th>\n",
       "      <th id=\"T_5ac6a_level0_col1\" class=\"col_heading level0 col1\" >Group 2</th>\n",
       "      <th id=\"T_5ac6a_level0_col2\" class=\"col_heading level0 col2\" >Group 3</th>\n",
       "      <th id=\"T_5ac6a_level0_col3\" class=\"col_heading level0 col3\" >Group 4</th>\n",
       "      <th id=\"T_5ac6a_level0_col4\" class=\"col_heading level0 col4\" >Group 5</th>\n",
       "    </tr>\n",
       "    <tr>\n",
       "      <th class=\"index_name level0\" >HomePlanet</th>\n",
       "      <th class=\"blank col0\" >&nbsp;</th>\n",
       "      <th class=\"blank col1\" >&nbsp;</th>\n",
       "      <th class=\"blank col2\" >&nbsp;</th>\n",
       "      <th class=\"blank col3\" >&nbsp;</th>\n",
       "      <th class=\"blank col4\" >&nbsp;</th>\n",
       "    </tr>\n",
       "  </thead>\n",
       "  <tbody>\n",
       "    <tr>\n",
       "      <th id=\"T_5ac6a_level0_row0\" class=\"row_heading level0 row0\" >Earth</th>\n",
       "      <td id=\"T_5ac6a_row0_col0\" class=\"data row0 col0\" >979</td>\n",
       "      <td id=\"T_5ac6a_row0_col1\" class=\"data row0 col1\" >927</td>\n",
       "      <td id=\"T_5ac6a_row0_col2\" class=\"data row0 col2\" >1526</td>\n",
       "      <td id=\"T_5ac6a_row0_col3\" class=\"data row0 col3\" >749</td>\n",
       "      <td id=\"T_5ac6a_row0_col4\" class=\"data row0 col4\" >326</td>\n",
       "    </tr>\n",
       "    <tr>\n",
       "      <th id=\"T_5ac6a_level0_row1\" class=\"row_heading level0 row1\" >Europa</th>\n",
       "      <td id=\"T_5ac6a_row1_col0\" class=\"data row1 col0\" >1876</td>\n",
       "      <td id=\"T_5ac6a_row1_col1\" class=\"data row1 col1\" >188</td>\n",
       "      <td id=\"T_5ac6a_row1_col2\" class=\"data row1 col2\" >6</td>\n",
       "      <td id=\"T_5ac6a_row1_col3\" class=\"data row1 col3\" >0</td>\n",
       "      <td id=\"T_5ac6a_row1_col4\" class=\"data row1 col4\" >0</td>\n",
       "    </tr>\n",
       "    <tr>\n",
       "      <th id=\"T_5ac6a_level0_row2\" class=\"row_heading level0 row2\" >Mars</th>\n",
       "      <td id=\"T_5ac6a_row2_col0\" class=\"data row2 col0\" >647</td>\n",
       "      <td id=\"T_5ac6a_row2_col1\" class=\"data row2 col1\" >327</td>\n",
       "      <td id=\"T_5ac6a_row2_col2\" class=\"data row2 col2\" >387</td>\n",
       "      <td id=\"T_5ac6a_row2_col3\" class=\"data row2 col3\" >167</td>\n",
       "      <td id=\"T_5ac6a_row2_col4\" class=\"data row2 col4\" >194</td>\n",
       "    </tr>\n",
       "  </tbody>\n",
       "</table>\n"
      ],
      "text/plain": [
       "<pandas.io.formats.style.Styler at 0x2ab3e04d3a0>"
      ]
     },
     "execution_count": 39,
     "metadata": {},
     "output_type": "execute_result"
    }
   ],
   "source": [
    "pd.crosstab(train['HomePlanet'], train['CabinGroup']).style.background_gradient(cmap='cividis')"
   ]
  },
  {
   "cell_type": "markdown",
   "metadata": {},
   "source": [
    "<li>Most people in Group 1 are from Europa</li>\n",
    "<li>The rest of the group are predominantly from Earth</li>"
   ]
  },
  {
   "cell_type": "markdown",
   "metadata": {},
   "source": [
    "### Name\n",
    "\n",
    "Extract the last name. We'll assume that passengers with the same last name are family/related."
   ]
  },
  {
   "cell_type": "code",
   "execution_count": 40,
   "metadata": {},
   "outputs": [
    {
     "data": {
      "text/html": [
       "<div>\n",
       "<style scoped>\n",
       "    .dataframe tbody tr th:only-of-type {\n",
       "        vertical-align: middle;\n",
       "    }\n",
       "\n",
       "    .dataframe tbody tr th {\n",
       "        vertical-align: top;\n",
       "    }\n",
       "\n",
       "    .dataframe thead th {\n",
       "        text-align: right;\n",
       "    }\n",
       "</style>\n",
       "<table border=\"1\" class=\"dataframe\">\n",
       "  <thead>\n",
       "    <tr style=\"text-align: right;\">\n",
       "      <th></th>\n",
       "      <th>PassengerId</th>\n",
       "      <th>HomePlanet</th>\n",
       "      <th>CryoSleep</th>\n",
       "      <th>Cabin</th>\n",
       "      <th>Destination</th>\n",
       "      <th>Age</th>\n",
       "      <th>VIP</th>\n",
       "      <th>RoomService</th>\n",
       "      <th>FoodCourt</th>\n",
       "      <th>ShoppingMall</th>\n",
       "      <th>...</th>\n",
       "      <th>PassengerGroup</th>\n",
       "      <th>PassengerGroupNumber</th>\n",
       "      <th>GroupSize</th>\n",
       "      <th>Alone</th>\n",
       "      <th>CabinDeck</th>\n",
       "      <th>CabinNum</th>\n",
       "      <th>CabinSide</th>\n",
       "      <th>CabinGroup</th>\n",
       "      <th>LastName</th>\n",
       "      <th>FamilySize</th>\n",
       "    </tr>\n",
       "  </thead>\n",
       "  <tbody>\n",
       "    <tr>\n",
       "      <th>0</th>\n",
       "      <td>0001_01</td>\n",
       "      <td>Europa</td>\n",
       "      <td>False</td>\n",
       "      <td>B/0/P</td>\n",
       "      <td>TRAPPIST-1e</td>\n",
       "      <td>39.0</td>\n",
       "      <td>False</td>\n",
       "      <td>0.0</td>\n",
       "      <td>0.0</td>\n",
       "      <td>0.0</td>\n",
       "      <td>...</td>\n",
       "      <td>1</td>\n",
       "      <td>01</td>\n",
       "      <td>1</td>\n",
       "      <td>True</td>\n",
       "      <td>B</td>\n",
       "      <td>0.0</td>\n",
       "      <td>P</td>\n",
       "      <td>Group 1</td>\n",
       "      <td>Ofracculy</td>\n",
       "      <td>1</td>\n",
       "    </tr>\n",
       "    <tr>\n",
       "      <th>1</th>\n",
       "      <td>0002_01</td>\n",
       "      <td>Earth</td>\n",
       "      <td>False</td>\n",
       "      <td>F/0/S</td>\n",
       "      <td>TRAPPIST-1e</td>\n",
       "      <td>24.0</td>\n",
       "      <td>False</td>\n",
       "      <td>109.0</td>\n",
       "      <td>9.0</td>\n",
       "      <td>25.0</td>\n",
       "      <td>...</td>\n",
       "      <td>2</td>\n",
       "      <td>01</td>\n",
       "      <td>1</td>\n",
       "      <td>True</td>\n",
       "      <td>F</td>\n",
       "      <td>0.0</td>\n",
       "      <td>S</td>\n",
       "      <td>Group 1</td>\n",
       "      <td>Vines</td>\n",
       "      <td>4</td>\n",
       "    </tr>\n",
       "    <tr>\n",
       "      <th>2</th>\n",
       "      <td>0003_01</td>\n",
       "      <td>Europa</td>\n",
       "      <td>False</td>\n",
       "      <td>A/0/S</td>\n",
       "      <td>TRAPPIST-1e</td>\n",
       "      <td>58.0</td>\n",
       "      <td>True</td>\n",
       "      <td>43.0</td>\n",
       "      <td>3576.0</td>\n",
       "      <td>0.0</td>\n",
       "      <td>...</td>\n",
       "      <td>3</td>\n",
       "      <td>01</td>\n",
       "      <td>2</td>\n",
       "      <td>False</td>\n",
       "      <td>A</td>\n",
       "      <td>0.0</td>\n",
       "      <td>S</td>\n",
       "      <td>Group 1</td>\n",
       "      <td>Susent</td>\n",
       "      <td>6</td>\n",
       "    </tr>\n",
       "    <tr>\n",
       "      <th>3</th>\n",
       "      <td>0003_02</td>\n",
       "      <td>Europa</td>\n",
       "      <td>False</td>\n",
       "      <td>A/0/S</td>\n",
       "      <td>TRAPPIST-1e</td>\n",
       "      <td>33.0</td>\n",
       "      <td>False</td>\n",
       "      <td>0.0</td>\n",
       "      <td>1283.0</td>\n",
       "      <td>371.0</td>\n",
       "      <td>...</td>\n",
       "      <td>3</td>\n",
       "      <td>02</td>\n",
       "      <td>2</td>\n",
       "      <td>False</td>\n",
       "      <td>A</td>\n",
       "      <td>0.0</td>\n",
       "      <td>S</td>\n",
       "      <td>Group 1</td>\n",
       "      <td>Susent</td>\n",
       "      <td>6</td>\n",
       "    </tr>\n",
       "    <tr>\n",
       "      <th>4</th>\n",
       "      <td>0004_01</td>\n",
       "      <td>Earth</td>\n",
       "      <td>False</td>\n",
       "      <td>F/1/S</td>\n",
       "      <td>TRAPPIST-1e</td>\n",
       "      <td>16.0</td>\n",
       "      <td>False</td>\n",
       "      <td>303.0</td>\n",
       "      <td>70.0</td>\n",
       "      <td>151.0</td>\n",
       "      <td>...</td>\n",
       "      <td>4</td>\n",
       "      <td>01</td>\n",
       "      <td>1</td>\n",
       "      <td>True</td>\n",
       "      <td>F</td>\n",
       "      <td>1.0</td>\n",
       "      <td>S</td>\n",
       "      <td>Group 1</td>\n",
       "      <td>Santantines</td>\n",
       "      <td>6</td>\n",
       "    </tr>\n",
       "  </tbody>\n",
       "</table>\n",
       "<p>5 rows × 26 columns</p>\n",
       "</div>"
      ],
      "text/plain": [
       "  PassengerId HomePlanet CryoSleep  Cabin  Destination   Age    VIP  \\\n",
       "0     0001_01     Europa     False  B/0/P  TRAPPIST-1e  39.0  False   \n",
       "1     0002_01      Earth     False  F/0/S  TRAPPIST-1e  24.0  False   \n",
       "2     0003_01     Europa     False  A/0/S  TRAPPIST-1e  58.0   True   \n",
       "3     0003_02     Europa     False  A/0/S  TRAPPIST-1e  33.0  False   \n",
       "4     0004_01      Earth     False  F/1/S  TRAPPIST-1e  16.0  False   \n",
       "\n",
       "   RoomService  FoodCourt  ShoppingMall  ...  PassengerGroup  \\\n",
       "0          0.0        0.0           0.0  ...               1   \n",
       "1        109.0        9.0          25.0  ...               2   \n",
       "2         43.0     3576.0           0.0  ...               3   \n",
       "3          0.0     1283.0         371.0  ...               3   \n",
       "4        303.0       70.0         151.0  ...               4   \n",
       "\n",
       "   PassengerGroupNumber GroupSize  Alone  CabinDeck  CabinNum  CabinSide  \\\n",
       "0                    01         1   True          B       0.0          P   \n",
       "1                    01         1   True          F       0.0          S   \n",
       "2                    01         2  False          A       0.0          S   \n",
       "3                    02         2  False          A       0.0          S   \n",
       "4                    01         1   True          F       1.0          S   \n",
       "\n",
       "  CabinGroup     LastName  FamilySize  \n",
       "0    Group 1    Ofracculy           1  \n",
       "1    Group 1        Vines           4  \n",
       "2    Group 1       Susent           6  \n",
       "3    Group 1       Susent           6  \n",
       "4    Group 1  Santantines           6  \n",
       "\n",
       "[5 rows x 26 columns]"
      ]
     },
     "execution_count": 40,
     "metadata": {},
     "output_type": "execute_result"
    }
   ],
   "source": [
    "train['LastName'] = train['Name'].str.split().str[-1]\n",
    "test['LastName'] = test['Name'].str.split().str[-1]\n",
    "\n",
    "train_counter = np.vectorize(Counter(train['LastName']).get)\n",
    "train['FamilySize'] = train_counter(train['LastName'])\n",
    "\n",
    "test_counter = np.vectorize(Counter(test['LastName']).get)\n",
    "test['FamilySize'] = test_counter(test['LastName'])\n",
    "\n",
    "train.head()"
   ]
  },
  {
   "cell_type": "code",
   "execution_count": 41,
   "metadata": {},
   "outputs": [
    {
     "data": {
      "image/png": "[encoded data removed]",
      "text/plain": [
       "<Figure size 1200x600 with 1 Axes>"
      ]
     },
     "metadata": {},
     "output_type": "display_data"
    }
   ],
   "source": [
    "plt.figure(figsize=(12,6), dpi=100)\n",
    "sns.countplot(data=train, x='FamilySize', hue='Transported', palette=CMAP);"
   ]
  },
  {
   "cell_type": "markdown",
   "metadata": {},
   "source": [
    "<li>Not too much difference between the transported rates. The 200 at the end are for missing values.</li>"
   ]
  },
  {
   "cell_type": "markdown",
   "metadata": {},
   "source": [
    "### Home Planet"
   ]
  },
  {
   "cell_type": "code",
   "execution_count": 42,
   "metadata": {},
   "outputs": [
    {
     "data": {
      "text/plain": [
       "Earth     4602\n",
       "Europa    2131\n",
       "Mars      1759\n",
       "Name: HomePlanet, dtype: int64"
      ]
     },
     "execution_count": 42,
     "metadata": {},
     "output_type": "execute_result"
    }
   ],
   "source": [
    "train.HomePlanet.value_counts()"
   ]
  },
  {
   "cell_type": "code",
   "execution_count": 43,
   "metadata": {},
   "outputs": [
    {
     "data": {
      "text/html": [
       "<div>\n",
       "<style scoped>\n",
       "    .dataframe tbody tr th:only-of-type {\n",
       "        vertical-align: middle;\n",
       "    }\n",
       "\n",
       "    .dataframe tbody tr th {\n",
       "        vertical-align: top;\n",
       "    }\n",
       "\n",
       "    .dataframe thead tr th {\n",
       "        text-align: left;\n",
       "    }\n",
       "\n",
       "    .dataframe thead tr:last-of-type th {\n",
       "        text-align: right;\n",
       "    }\n",
       "</style>\n",
       "<table border=\"1\" class=\"dataframe\">\n",
       "  <thead>\n",
       "    <tr>\n",
       "      <th></th>\n",
       "      <th colspan=\"8\" halign=\"left\">LuxurySpend</th>\n",
       "    </tr>\n",
       "    <tr>\n",
       "      <th></th>\n",
       "      <th>count</th>\n",
       "      <th>mean</th>\n",
       "      <th>std</th>\n",
       "      <th>min</th>\n",
       "      <th>25%</th>\n",
       "      <th>50%</th>\n",
       "      <th>75%</th>\n",
       "      <th>max</th>\n",
       "    </tr>\n",
       "    <tr>\n",
       "      <th>HomePlanet</th>\n",
       "      <th></th>\n",
       "      <th></th>\n",
       "      <th></th>\n",
       "      <th></th>\n",
       "      <th></th>\n",
       "      <th></th>\n",
       "      <th></th>\n",
       "      <th></th>\n",
       "    </tr>\n",
       "  </thead>\n",
       "  <tbody>\n",
       "    <tr>\n",
       "      <th>Earth</th>\n",
       "      <td>4602.0</td>\n",
       "      <td>673.337462</td>\n",
       "      <td>771.307925</td>\n",
       "      <td>0.0</td>\n",
       "      <td>0.0</td>\n",
       "      <td>704.0</td>\n",
       "      <td>888.0</td>\n",
       "      <td>6335.0</td>\n",
       "    </tr>\n",
       "    <tr>\n",
       "      <th>Europa</th>\n",
       "      <td>2131.0</td>\n",
       "      <td>3451.624589</td>\n",
       "      <td>4845.099433</td>\n",
       "      <td>0.0</td>\n",
       "      <td>0.0</td>\n",
       "      <td>1901.0</td>\n",
       "      <td>5346.0</td>\n",
       "      <td>35987.0</td>\n",
       "    </tr>\n",
       "    <tr>\n",
       "      <th>Mars</th>\n",
       "      <td>1759.0</td>\n",
       "      <td>1051.256964</td>\n",
       "      <td>1343.371706</td>\n",
       "      <td>0.0</td>\n",
       "      <td>0.0</td>\n",
       "      <td>946.0</td>\n",
       "      <td>1702.5</td>\n",
       "      <td>10801.0</td>\n",
       "    </tr>\n",
       "  </tbody>\n",
       "</table>\n",
       "</div>"
      ],
      "text/plain": [
       "           LuxurySpend                                                      \\\n",
       "                 count         mean          std  min  25%     50%     75%   \n",
       "HomePlanet                                                                   \n",
       "Earth           4602.0   673.337462   771.307925  0.0  0.0   704.0   888.0   \n",
       "Europa          2131.0  3451.624589  4845.099433  0.0  0.0  1901.0  5346.0   \n",
       "Mars            1759.0  1051.256964  1343.371706  0.0  0.0   946.0  1702.5   \n",
       "\n",
       "                     \n",
       "                max  \n",
       "HomePlanet           \n",
       "Earth        6335.0  \n",
       "Europa      35987.0  \n",
       "Mars        10801.0  "
      ]
     },
     "execution_count": 43,
     "metadata": {},
     "output_type": "execute_result"
    }
   ],
   "source": [
    "train.groupby('HomePlanet')[['LuxurySpend']].describe()"
   ]
  },
  {
   "cell_type": "code",
   "execution_count": 44,
   "metadata": {},
   "outputs": [
    {
     "data": {
      "image/png": "[encoded data removed]",
      "text/plain": [
       "<Figure size 1200x1000 with 1 Axes>"
      ]
     },
     "metadata": {},
     "output_type": "display_data"
    }
   ],
   "source": [
    "plt.figure(figsize=(12,10), dpi=100)\n",
    "plt.title('Distribution of Luxury Spend by HomePlanet')\n",
    "sns.boxenplot(data=train,\n",
    "            y='HomePlanet',\n",
    "            x='LuxurySpend',\n",
    "            palette=CMAP,);"
   ]
  },
  {
   "cell_type": "code",
   "execution_count": 45,
   "metadata": {},
   "outputs": [
    {
     "data": {
      "image/png": "[encoded data removed]",
      "text/plain": [
       "<Figure size 432x288 with 1 Axes>"
      ]
     },
     "metadata": {},
     "output_type": "display_data"
    }
   ],
   "source": [
    "plt.title('Number of VIP passengers by HomePlanet')\n",
    "sns.countplot(data=train[train.VIP==True], x='HomePlanet', palette=CMAP);"
   ]
  },
  {
   "cell_type": "markdown",
   "metadata": {},
   "source": [
    "<li>It looks like passengers from Europa have worse luck than the other two, the ratio of Europa's passengers who are transported are higher. </li>\n",
    "<li>They also happen to be more extravagant on average. The majority of VIP passengers are also from Europa. Interestingly, not a single person from Earth is a VIP passenger. How expensive is the ticket? Surely the Elon Musk/Jeff Bezos of that era could've afforded it.</li>\n"
   ]
  },
  {
   "cell_type": "code",
   "execution_count": 46,
   "metadata": {},
   "outputs": [
    {
     "data": {
      "text/html": [
       "<div>\n",
       "<style scoped>\n",
       "    .dataframe tbody tr th:only-of-type {\n",
       "        vertical-align: middle;\n",
       "    }\n",
       "\n",
       "    .dataframe tbody tr th {\n",
       "        vertical-align: top;\n",
       "    }\n",
       "\n",
       "    .dataframe thead th {\n",
       "        text-align: right;\n",
       "    }\n",
       "</style>\n",
       "<table border=\"1\" class=\"dataframe\">\n",
       "  <thead>\n",
       "    <tr style=\"text-align: right;\">\n",
       "      <th>HomePlanet</th>\n",
       "      <th>Earth</th>\n",
       "      <th>Europa</th>\n",
       "      <th>Mars</th>\n",
       "    </tr>\n",
       "    <tr>\n",
       "      <th>PassengerGroup</th>\n",
       "      <th></th>\n",
       "      <th></th>\n",
       "      <th></th>\n",
       "    </tr>\n",
       "  </thead>\n",
       "  <tbody>\n",
       "    <tr>\n",
       "      <th>1</th>\n",
       "      <td>0.0</td>\n",
       "      <td>1.0</td>\n",
       "      <td>0.0</td>\n",
       "    </tr>\n",
       "    <tr>\n",
       "      <th>2</th>\n",
       "      <td>1.0</td>\n",
       "      <td>0.0</td>\n",
       "      <td>0.0</td>\n",
       "    </tr>\n",
       "    <tr>\n",
       "      <th>3</th>\n",
       "      <td>0.0</td>\n",
       "      <td>2.0</td>\n",
       "      <td>0.0</td>\n",
       "    </tr>\n",
       "    <tr>\n",
       "      <th>4</th>\n",
       "      <td>1.0</td>\n",
       "      <td>0.0</td>\n",
       "      <td>0.0</td>\n",
       "    </tr>\n",
       "    <tr>\n",
       "      <th>5</th>\n",
       "      <td>1.0</td>\n",
       "      <td>0.0</td>\n",
       "      <td>0.0</td>\n",
       "    </tr>\n",
       "    <tr>\n",
       "      <th>...</th>\n",
       "      <td>...</td>\n",
       "      <td>...</td>\n",
       "      <td>...</td>\n",
       "    </tr>\n",
       "    <tr>\n",
       "      <th>9275</th>\n",
       "      <td>0.0</td>\n",
       "      <td>3.0</td>\n",
       "      <td>0.0</td>\n",
       "    </tr>\n",
       "    <tr>\n",
       "      <th>9276</th>\n",
       "      <td>0.0</td>\n",
       "      <td>1.0</td>\n",
       "      <td>0.0</td>\n",
       "    </tr>\n",
       "    <tr>\n",
       "      <th>9278</th>\n",
       "      <td>1.0</td>\n",
       "      <td>0.0</td>\n",
       "      <td>0.0</td>\n",
       "    </tr>\n",
       "    <tr>\n",
       "      <th>9279</th>\n",
       "      <td>1.0</td>\n",
       "      <td>0.0</td>\n",
       "      <td>0.0</td>\n",
       "    </tr>\n",
       "    <tr>\n",
       "      <th>9280</th>\n",
       "      <td>0.0</td>\n",
       "      <td>2.0</td>\n",
       "      <td>0.0</td>\n",
       "    </tr>\n",
       "  </tbody>\n",
       "</table>\n",
       "<p>6107 rows × 3 columns</p>\n",
       "</div>"
      ],
      "text/plain": [
       "HomePlanet      Earth  Europa  Mars\n",
       "PassengerGroup                     \n",
       "1                 0.0     1.0   0.0\n",
       "2                 1.0     0.0   0.0\n",
       "3                 0.0     2.0   0.0\n",
       "4                 1.0     0.0   0.0\n",
       "5                 1.0     0.0   0.0\n",
       "...               ...     ...   ...\n",
       "9275              0.0     3.0   0.0\n",
       "9276              0.0     1.0   0.0\n",
       "9278              1.0     0.0   0.0\n",
       "9279              1.0     0.0   0.0\n",
       "9280              0.0     2.0   0.0\n",
       "\n",
       "[6107 rows x 3 columns]"
      ]
     },
     "execution_count": 46,
     "metadata": {},
     "output_type": "execute_result"
    }
   ],
   "source": [
    "group_homeplanet = train.groupby(['PassengerGroup', 'HomePlanet'])['HomePlanet'].size().unstack().fillna(0)\n",
    "group_homeplanet"
   ]
  },
  {
   "cell_type": "code",
   "execution_count": 47,
   "metadata": {},
   "outputs": [
    {
     "data": {
      "text/plain": [
       "array([1], dtype=int64)"
      ]
     },
     "execution_count": 47,
     "metadata": {},
     "output_type": "execute_result"
    }
   ],
   "source": [
    "(group_homeplanet>0).sum(axis=1).unique()"
   ]
  },
  {
   "cell_type": "code",
   "execution_count": 48,
   "metadata": {},
   "outputs": [
    {
     "data": {
      "text/plain": [
       "array([1], dtype=int64)"
      ]
     },
     "execution_count": 48,
     "metadata": {},
     "output_type": "execute_result"
    }
   ],
   "source": [
    "lastname_homeplanet = train.groupby(['LastName', 'HomePlanet'])['HomePlanet'].size().unstack().fillna(0)\n",
    "# confirm if same last name come from same planet\n",
    "(lastname_homeplanet>0).sum(axis=1).unique()"
   ]
  },
  {
   "cell_type": "markdown",
   "metadata": {},
   "source": [
    "There's only 1 in the unique value there, which means that for any 'PassengerGroup', all of the passengers are from the same 'HomePlanet'. \n",
    "Similarly, people with the same last name are also from the same planet. "
   ]
  },
  {
   "cell_type": "markdown",
   "metadata": {},
   "source": [
    "\n",
    "\n",
    "<li>Missing HomePlanet can be imputed based on PassengerGroup or their last name.</li>\n",
    "<li>The remaining missing values, if any, should be imputed based on CabinDeck as we've explored above.</li>\n",
    "<li>Any more missing values, and we'll impute it with mode (Earth)</li>"
   ]
  },
  {
   "cell_type": "markdown",
   "metadata": {},
   "source": [
    "### CryoSleep"
   ]
  },
  {
   "cell_type": "code",
   "execution_count": 49,
   "metadata": {},
   "outputs": [
    {
     "data": {
      "text/plain": [
       "False    5439\n",
       "True     3037\n",
       "Name: CryoSleep, dtype: int64"
      ]
     },
     "execution_count": 49,
     "metadata": {},
     "output_type": "execute_result"
    }
   ],
   "source": [
    "train.CryoSleep.value_counts()"
   ]
  },
  {
   "cell_type": "code",
   "execution_count": 50,
   "metadata": {},
   "outputs": [
    {
     "data": {
      "image/png": "[encoded data removed]",
      "text/plain": [
       "<Figure size 900x600 with 1 Axes>"
      ]
     },
     "metadata": {},
     "output_type": "display_data"
    }
   ],
   "source": [
    "plt.figure(dpi=150)\n",
    "sns.histplot(data=train, x='Age', hue='CryoSleep', palette=CMAP[0:2]);"
   ]
  },
  {
   "cell_type": "code",
   "execution_count": 51,
   "metadata": {},
   "outputs": [
    {
     "data": {
      "image/png": "[encoded data removed]",
      "text/plain": [
       "<Figure size 900x600 with 1 Axes>"
      ]
     },
     "metadata": {},
     "output_type": "display_data"
    }
   ],
   "source": [
    "plt.figure(dpi=150)\n",
    "sns.countplot(data=train, x='CryoSleep', hue='Transported', palette=CMAP);"
   ]
  },
  {
   "cell_type": "markdown",
   "metadata": {},
   "source": [
    "<li>Passengers that are cryo sleeping are way more likely to be transported than those who are not.</li> \n",
    "<li>Those from Earth seems to prefer to be awake. </li>\n",
    "\n",
    "Pretty hard to say what conditions it would be for someone to choose to cryosleep. We'll go with a simple mode imputation."
   ]
  },
  {
   "cell_type": "markdown",
   "metadata": {},
   "source": [
    "### VIP"
   ]
  },
  {
   "cell_type": "code",
   "execution_count": 52,
   "metadata": {},
   "outputs": [
    {
     "data": {
      "text/plain": [
       "199"
      ]
     },
     "execution_count": 52,
     "metadata": {},
     "output_type": "execute_result"
    }
   ],
   "source": [
    "len(train[train.VIP==True])"
   ]
  },
  {
   "cell_type": "code",
   "execution_count": 53,
   "metadata": {},
   "outputs": [
    {
     "data": {
      "text/plain": [
       "Earth     115\n",
       "Mars       43\n",
       "Europa     42\n",
       "Name: HomePlanet, dtype: int64"
      ]
     },
     "execution_count": 53,
     "metadata": {},
     "output_type": "execute_result"
    }
   ],
   "source": [
    "train[train.VIP.isnull()]['HomePlanet'].value_counts()"
   ]
  },
  {
   "cell_type": "markdown",
   "metadata": {},
   "source": [
    "We don't have many VIP passengers to begin with. Only 199 in total out of 8,000+ passengers. Furthermore, most of the missing values in VIPs are from Earth, which we have seen do not have any representative in the VIP. Therefore, we'll simply impute the null values here with False"
   ]
  },
  {
   "cell_type": "markdown",
   "metadata": {},
   "source": [
    "#### Destination"
   ]
  },
  {
   "cell_type": "code",
   "execution_count": 54,
   "metadata": {},
   "outputs": [
    {
     "data": {
      "text/plain": [
       "Earth     99\n",
       "Mars      42\n",
       "Europa    37\n",
       "Name: HomePlanet, dtype: int64"
      ]
     },
     "execution_count": 54,
     "metadata": {},
     "output_type": "execute_result"
    }
   ],
   "source": [
    "train[train.Destination.isnull()]['HomePlanet'].value_counts()"
   ]
  },
  {
   "cell_type": "code",
   "execution_count": 55,
   "metadata": {},
   "outputs": [
    {
     "data": {
      "image/png": "[encoded data removed]",
      "text/plain": [
       "<Figure size 432x288 with 1 Axes>"
      ]
     },
     "metadata": {},
     "output_type": "display_data"
    }
   ],
   "source": [
    "sns.countplot(data=train, x='Destination', hue='Transported', palette=CMAP);"
   ]
  },
  {
   "cell_type": "code",
   "execution_count": 56,
   "metadata": {},
   "outputs": [
    {
     "data": {
      "text/plain": [
       "<AxesSubplot:xlabel='Destination', ylabel='count'>"
      ]
     },
     "execution_count": 56,
     "metadata": {},
     "output_type": "execute_result"
    },
    {
     "data": {
      "image/png": "[encoded data removed]",
      "text/plain": [
       "<Figure size 432x288 with 1 Axes>"
      ]
     },
     "metadata": {},
     "output_type": "display_data"
    }
   ],
   "source": [
    "sns.countplot(data=train, x='Destination', hue='HomePlanet', palette=CMAP)"
   ]
  },
  {
   "cell_type": "code",
   "execution_count": 57,
   "metadata": {},
   "outputs": [
    {
     "data": {
      "text/plain": [
       "Destination    HomePlanet\n",
       "55 Cancri e    Europa         886\n",
       "               Earth          690\n",
       "               Mars           193\n",
       "PSO J318.5-22  Earth          712\n",
       "               Mars            49\n",
       "               Europa          19\n",
       "TRAPPIST-1e    Earth         3101\n",
       "               Mars          1475\n",
       "               Europa        1189\n",
       "Name: HomePlanet, dtype: int64"
      ]
     },
     "execution_count": 57,
     "metadata": {},
     "output_type": "execute_result"
    }
   ],
   "source": [
    "train.groupby('Destination')['HomePlanet'].value_counts()"
   ]
  },
  {
   "cell_type": "markdown",
   "metadata": {},
   "source": [
    "The vast majority of passengers are heading to TRAPPIST-1e. Again, we'll simply use mode imputation for this column."
   ]
  },
  {
   "cell_type": "markdown",
   "metadata": {},
   "source": [
    "## Duplicate"
   ]
  },
  {
   "cell_type": "code",
   "execution_count": 58,
   "metadata": {},
   "outputs": [
    {
     "data": {
      "text/plain": [
       "0"
      ]
     },
     "execution_count": 58,
     "metadata": {},
     "output_type": "execute_result"
    }
   ],
   "source": [
    "train.duplicated().sum()"
   ]
  },
  {
   "cell_type": "code",
   "execution_count": 59,
   "metadata": {},
   "outputs": [
    {
     "data": {
      "text/plain": [
       "0"
      ]
     },
     "execution_count": 59,
     "metadata": {},
     "output_type": "execute_result"
    }
   ],
   "source": [
    "test.duplicated().sum()"
   ]
  },
  {
   "cell_type": "markdown",
   "metadata": {},
   "source": [
    "<li>The dataset does not have any duplicated rows.</li>"
   ]
  },
  {
   "cell_type": "markdown",
   "metadata": {},
   "source": [
    "## Impute Missing Values\n"
   ]
  },
  {
   "cell_type": "markdown",
   "metadata": {},
   "source": [
    "When I impute the missing values in this section. All of the exploration and decision on values/methods are going to be based on the training data only. Then, I'll repeat the exact same process on the test dataset. By making decision only based on the training set, we minimize 'data leakage' which could potentially invalidate the estimated performance of the model built since we're technically <em>cheating</em> by using information from the test data which should be unseen data."
   ]
  },
  {
   "cell_type": "markdown",
   "metadata": {},
   "source": [
    "### Impute Categorical Columns"
   ]
  },
  {
   "cell_type": "markdown",
   "metadata": {},
   "source": [
    "#### Impute Last Name"
   ]
  },
  {
   "cell_type": "code",
   "execution_count": 60,
   "metadata": {},
   "outputs": [
    {
     "name": "stderr",
     "output_type": "stream",
     "text": [
      "c:\\Users\\61411\\anaconda3\\lib\\site-packages\\seaborn\\_decorators.py:36: FutureWarning: Pass the following variable as a keyword arg: x. From version 0.12, the only valid positional argument will be `data`, and passing other arguments without an explicit keyword will result in an error or misinterpretation.\n",
      "  warnings.warn(\n"
     ]
    },
    {
     "data": {
      "image/png": "[encoded data removed]",
      "text/plain": [
       "<Figure size 720x288 with 1 Axes>"
      ]
     },
     "metadata": {},
     "output_type": "display_data"
    }
   ],
   "source": [
    "group_lastname = train[train['GroupSize']>1].groupby(['PassengerGroup', 'LastName']).size().unstack().fillna(0)\n",
    "\n",
    "# plot unique values\n",
    "plt.figure(figsize=(10,4))\n",
    "sns.countplot((group_lastname>0).sum(axis=1), palette=CMAP)\n",
    "plt.title('Count of Different Last Names in Passenger Group');"
   ]
  },
  {
   "cell_type": "code",
   "execution_count": 61,
   "metadata": {},
   "outputs": [
    {
     "data": {
      "text/html": [
       "<div>\n",
       "<style scoped>\n",
       "    .dataframe tbody tr th:only-of-type {\n",
       "        vertical-align: middle;\n",
       "    }\n",
       "\n",
       "    .dataframe tbody tr th {\n",
       "        vertical-align: top;\n",
       "    }\n",
       "\n",
       "    .dataframe thead th {\n",
       "        text-align: right;\n",
       "    }\n",
       "</style>\n",
       "<table border=\"1\" class=\"dataframe\">\n",
       "  <thead>\n",
       "    <tr style=\"text-align: right;\">\n",
       "      <th></th>\n",
       "      <th>PassengerGroup</th>\n",
       "      <th>PassengerGroupNumber</th>\n",
       "      <th>GroupSize</th>\n",
       "      <th>LastName</th>\n",
       "    </tr>\n",
       "  </thead>\n",
       "  <tbody>\n",
       "    <tr>\n",
       "      <th>27</th>\n",
       "      <td>22</td>\n",
       "      <td>01</td>\n",
       "      <td>1</td>\n",
       "      <td>NaN</td>\n",
       "    </tr>\n",
       "    <tr>\n",
       "      <th>58</th>\n",
       "      <td>64</td>\n",
       "      <td>01</td>\n",
       "      <td>2</td>\n",
       "      <td>NaN</td>\n",
       "    </tr>\n",
       "    <tr>\n",
       "      <th>65</th>\n",
       "      <td>69</td>\n",
       "      <td>01</td>\n",
       "      <td>1</td>\n",
       "      <td>NaN</td>\n",
       "    </tr>\n",
       "    <tr>\n",
       "      <th>77</th>\n",
       "      <td>82</td>\n",
       "      <td>03</td>\n",
       "      <td>3</td>\n",
       "      <td>NaN</td>\n",
       "    </tr>\n",
       "    <tr>\n",
       "      <th>101</th>\n",
       "      <td>108</td>\n",
       "      <td>02</td>\n",
       "      <td>3</td>\n",
       "      <td>NaN</td>\n",
       "    </tr>\n",
       "    <tr>\n",
       "      <th>126</th>\n",
       "      <td>136</td>\n",
       "      <td>01</td>\n",
       "      <td>1</td>\n",
       "      <td>NaN</td>\n",
       "    </tr>\n",
       "    <tr>\n",
       "      <th>165</th>\n",
       "      <td>190</td>\n",
       "      <td>01</td>\n",
       "      <td>1</td>\n",
       "      <td>NaN</td>\n",
       "    </tr>\n",
       "    <tr>\n",
       "      <th>297</th>\n",
       "      <td>330</td>\n",
       "      <td>02</td>\n",
       "      <td>3</td>\n",
       "      <td>NaN</td>\n",
       "    </tr>\n",
       "    <tr>\n",
       "      <th>305</th>\n",
       "      <td>337</td>\n",
       "      <td>03</td>\n",
       "      <td>3</td>\n",
       "      <td>NaN</td>\n",
       "    </tr>\n",
       "    <tr>\n",
       "      <th>331</th>\n",
       "      <td>372</td>\n",
       "      <td>01</td>\n",
       "      <td>1</td>\n",
       "      <td>NaN</td>\n",
       "    </tr>\n",
       "    <tr>\n",
       "      <th>411</th>\n",
       "      <td>448</td>\n",
       "      <td>02</td>\n",
       "      <td>2</td>\n",
       "      <td>NaN</td>\n",
       "    </tr>\n",
       "    <tr>\n",
       "      <th>629</th>\n",
       "      <td>657</td>\n",
       "      <td>01</td>\n",
       "      <td>2</td>\n",
       "      <td>NaN</td>\n",
       "    </tr>\n",
       "    <tr>\n",
       "      <th>712</th>\n",
       "      <td>753</td>\n",
       "      <td>02</td>\n",
       "      <td>3</td>\n",
       "      <td>NaN</td>\n",
       "    </tr>\n",
       "    <tr>\n",
       "      <th>733</th>\n",
       "      <td>770</td>\n",
       "      <td>06</td>\n",
       "      <td>6</td>\n",
       "      <td>NaN</td>\n",
       "    </tr>\n",
       "    <tr>\n",
       "      <th>749</th>\n",
       "      <td>788</td>\n",
       "      <td>01</td>\n",
       "      <td>1</td>\n",
       "      <td>NaN</td>\n",
       "    </tr>\n",
       "    <tr>\n",
       "      <th>809</th>\n",
       "      <td>860</td>\n",
       "      <td>01</td>\n",
       "      <td>1</td>\n",
       "      <td>NaN</td>\n",
       "    </tr>\n",
       "    <tr>\n",
       "      <th>813</th>\n",
       "      <td>865</td>\n",
       "      <td>01</td>\n",
       "      <td>2</td>\n",
       "      <td>NaN</td>\n",
       "    </tr>\n",
       "    <tr>\n",
       "      <th>822</th>\n",
       "      <td>875</td>\n",
       "      <td>01</td>\n",
       "      <td>1</td>\n",
       "      <td>NaN</td>\n",
       "    </tr>\n",
       "    <tr>\n",
       "      <th>833</th>\n",
       "      <td>890</td>\n",
       "      <td>01</td>\n",
       "      <td>1</td>\n",
       "      <td>NaN</td>\n",
       "    </tr>\n",
       "    <tr>\n",
       "      <th>871</th>\n",
       "      <td>933</td>\n",
       "      <td>01</td>\n",
       "      <td>2</td>\n",
       "      <td>NaN</td>\n",
       "    </tr>\n",
       "  </tbody>\n",
       "</table>\n",
       "</div>"
      ],
      "text/plain": [
       "     PassengerGroup PassengerGroupNumber  GroupSize LastName\n",
       "27               22                   01          1      NaN\n",
       "58               64                   01          2      NaN\n",
       "65               69                   01          1      NaN\n",
       "77               82                   03          3      NaN\n",
       "101             108                   02          3      NaN\n",
       "126             136                   01          1      NaN\n",
       "165             190                   01          1      NaN\n",
       "297             330                   02          3      NaN\n",
       "305             337                   03          3      NaN\n",
       "331             372                   01          1      NaN\n",
       "411             448                   02          2      NaN\n",
       "629             657                   01          2      NaN\n",
       "712             753                   02          3      NaN\n",
       "733             770                   06          6      NaN\n",
       "749             788                   01          1      NaN\n",
       "809             860                   01          1      NaN\n",
       "813             865                   01          2      NaN\n",
       "822             875                   01          1      NaN\n",
       "833             890                   01          1      NaN\n",
       "871             933                   01          2      NaN"
      ]
     },
     "execution_count": 61,
     "metadata": {},
     "output_type": "execute_result"
    }
   ],
   "source": [
    "train[train.LastName.isnull()][['PassengerGroup', 'PassengerGroupNumber', 'GroupSize', 'LastName']].head(20)"
   ]
  },
  {
   "cell_type": "markdown",
   "metadata": {},
   "source": [
    "Since we are assuming that those within the same groups have the same last name. Let's check a few of the groups that have more than 1 people to confirm the imputation is working as intended."
   ]
  },
  {
   "cell_type": "code",
   "execution_count": 62,
   "metadata": {},
   "outputs": [
    {
     "data": {
      "text/html": [
       "<div>\n",
       "<style scoped>\n",
       "    .dataframe tbody tr th:only-of-type {\n",
       "        vertical-align: middle;\n",
       "    }\n",
       "\n",
       "    .dataframe tbody tr th {\n",
       "        vertical-align: top;\n",
       "    }\n",
       "\n",
       "    .dataframe thead th {\n",
       "        text-align: right;\n",
       "    }\n",
       "</style>\n",
       "<table border=\"1\" class=\"dataframe\">\n",
       "  <thead>\n",
       "    <tr style=\"text-align: right;\">\n",
       "      <th></th>\n",
       "      <th>PassengerGroup</th>\n",
       "      <th>GroupSize</th>\n",
       "      <th>LastName</th>\n",
       "    </tr>\n",
       "  </thead>\n",
       "  <tbody>\n",
       "    <tr>\n",
       "      <th>75</th>\n",
       "      <td>82</td>\n",
       "      <td>3</td>\n",
       "      <td>Datte</td>\n",
       "    </tr>\n",
       "    <tr>\n",
       "      <th>76</th>\n",
       "      <td>82</td>\n",
       "      <td>3</td>\n",
       "      <td>Datte</td>\n",
       "    </tr>\n",
       "    <tr>\n",
       "      <th>77</th>\n",
       "      <td>82</td>\n",
       "      <td>3</td>\n",
       "      <td>NaN</td>\n",
       "    </tr>\n",
       "    <tr>\n",
       "      <th>100</th>\n",
       "      <td>108</td>\n",
       "      <td>3</td>\n",
       "      <td>Handertiz</td>\n",
       "    </tr>\n",
       "    <tr>\n",
       "      <th>101</th>\n",
       "      <td>108</td>\n",
       "      <td>3</td>\n",
       "      <td>NaN</td>\n",
       "    </tr>\n",
       "    <tr>\n",
       "      <th>102</th>\n",
       "      <td>108</td>\n",
       "      <td>3</td>\n",
       "      <td>Handertiz</td>\n",
       "    </tr>\n",
       "    <tr>\n",
       "      <th>711</th>\n",
       "      <td>753</td>\n",
       "      <td>3</td>\n",
       "      <td>Ennalve</td>\n",
       "    </tr>\n",
       "    <tr>\n",
       "      <th>712</th>\n",
       "      <td>753</td>\n",
       "      <td>3</td>\n",
       "      <td>NaN</td>\n",
       "    </tr>\n",
       "    <tr>\n",
       "      <th>713</th>\n",
       "      <td>753</td>\n",
       "      <td>3</td>\n",
       "      <td>Ennalve</td>\n",
       "    </tr>\n",
       "    <tr>\n",
       "      <th>728</th>\n",
       "      <td>770</td>\n",
       "      <td>6</td>\n",
       "      <td>Mclardson</td>\n",
       "    </tr>\n",
       "    <tr>\n",
       "      <th>729</th>\n",
       "      <td>770</td>\n",
       "      <td>6</td>\n",
       "      <td>Mclardson</td>\n",
       "    </tr>\n",
       "    <tr>\n",
       "      <th>730</th>\n",
       "      <td>770</td>\n",
       "      <td>6</td>\n",
       "      <td>Mclardson</td>\n",
       "    </tr>\n",
       "    <tr>\n",
       "      <th>731</th>\n",
       "      <td>770</td>\n",
       "      <td>6</td>\n",
       "      <td>Mclardson</td>\n",
       "    </tr>\n",
       "    <tr>\n",
       "      <th>732</th>\n",
       "      <td>770</td>\n",
       "      <td>6</td>\n",
       "      <td>Mclardson</td>\n",
       "    </tr>\n",
       "    <tr>\n",
       "      <th>733</th>\n",
       "      <td>770</td>\n",
       "      <td>6</td>\n",
       "      <td>NaN</td>\n",
       "    </tr>\n",
       "  </tbody>\n",
       "</table>\n",
       "</div>"
      ],
      "text/plain": [
       "     PassengerGroup  GroupSize   LastName\n",
       "75               82          3      Datte\n",
       "76               82          3      Datte\n",
       "77               82          3        NaN\n",
       "100             108          3  Handertiz\n",
       "101             108          3        NaN\n",
       "102             108          3  Handertiz\n",
       "711             753          3    Ennalve\n",
       "712             753          3        NaN\n",
       "713             753          3    Ennalve\n",
       "728             770          6  Mclardson\n",
       "729             770          6  Mclardson\n",
       "730             770          6  Mclardson\n",
       "731             770          6  Mclardson\n",
       "732             770          6  Mclardson\n",
       "733             770          6        NaN"
      ]
     },
     "execution_count": 62,
     "metadata": {},
     "output_type": "execute_result"
    }
   ],
   "source": [
    "last_name_check = [82, 108, 753, 770]\n",
    "train[train.PassengerGroup.isin(last_name_check)][['PassengerGroup', 'GroupSize', 'LastName']]"
   ]
  },
  {
   "cell_type": "code",
   "execution_count": 63,
   "metadata": {},
   "outputs": [
    {
     "data": {
      "text/plain": [
       "104"
      ]
     },
     "execution_count": 63,
     "metadata": {},
     "output_type": "execute_result"
    }
   ],
   "source": [
    "# fill missing last name with respect to passenger group\n",
    "func = lambda x: x.mode()[0] if x.notna().any() else np.nan\n",
    "train['LastName'] = train.groupby(['PassengerGroup'])['LastName'].transform(func)\n",
    "\n",
    "train.LastName.isna().sum()"
   ]
  },
  {
   "cell_type": "code",
   "execution_count": 64,
   "metadata": {},
   "outputs": [
    {
     "data": {
      "text/plain": [
       "array([ True])"
      ]
     },
     "execution_count": 64,
     "metadata": {},
     "output_type": "execute_result"
    }
   ],
   "source": [
    "# recount family size\n",
    "counter = np.vectorize(Counter(train['LastName']).get)\n",
    "train['FamilySize'] = counter(train['LastName'])\n",
    "\n",
    "# check if the remaining missing last names are alone\n",
    "train[train.LastName.isna()]['Alone'].unique()"
   ]
  },
  {
   "cell_type": "code",
   "execution_count": 65,
   "metadata": {},
   "outputs": [],
   "source": [
    "# yes they are! change family size to 1\n",
    "train.loc[train['FamilySize']>100, 'FamilySize'] = 1"
   ]
  },
  {
   "cell_type": "code",
   "execution_count": 66,
   "metadata": {},
   "outputs": [
    {
     "data": {
      "text/html": [
       "<div>\n",
       "<style scoped>\n",
       "    .dataframe tbody tr th:only-of-type {\n",
       "        vertical-align: middle;\n",
       "    }\n",
       "\n",
       "    .dataframe tbody tr th {\n",
       "        vertical-align: top;\n",
       "    }\n",
       "\n",
       "    .dataframe thead th {\n",
       "        text-align: right;\n",
       "    }\n",
       "</style>\n",
       "<table border=\"1\" class=\"dataframe\">\n",
       "  <thead>\n",
       "    <tr style=\"text-align: right;\">\n",
       "      <th></th>\n",
       "      <th>PassengerGroup</th>\n",
       "      <th>GroupSize</th>\n",
       "      <th>LastName</th>\n",
       "    </tr>\n",
       "  </thead>\n",
       "  <tbody>\n",
       "    <tr>\n",
       "      <th>75</th>\n",
       "      <td>82</td>\n",
       "      <td>3</td>\n",
       "      <td>Datte</td>\n",
       "    </tr>\n",
       "    <tr>\n",
       "      <th>76</th>\n",
       "      <td>82</td>\n",
       "      <td>3</td>\n",
       "      <td>Datte</td>\n",
       "    </tr>\n",
       "    <tr>\n",
       "      <th>77</th>\n",
       "      <td>82</td>\n",
       "      <td>3</td>\n",
       "      <td>Datte</td>\n",
       "    </tr>\n",
       "    <tr>\n",
       "      <th>100</th>\n",
       "      <td>108</td>\n",
       "      <td>3</td>\n",
       "      <td>Handertiz</td>\n",
       "    </tr>\n",
       "    <tr>\n",
       "      <th>101</th>\n",
       "      <td>108</td>\n",
       "      <td>3</td>\n",
       "      <td>Handertiz</td>\n",
       "    </tr>\n",
       "    <tr>\n",
       "      <th>102</th>\n",
       "      <td>108</td>\n",
       "      <td>3</td>\n",
       "      <td>Handertiz</td>\n",
       "    </tr>\n",
       "    <tr>\n",
       "      <th>711</th>\n",
       "      <td>753</td>\n",
       "      <td>3</td>\n",
       "      <td>Ennalve</td>\n",
       "    </tr>\n",
       "    <tr>\n",
       "      <th>712</th>\n",
       "      <td>753</td>\n",
       "      <td>3</td>\n",
       "      <td>Ennalve</td>\n",
       "    </tr>\n",
       "    <tr>\n",
       "      <th>713</th>\n",
       "      <td>753</td>\n",
       "      <td>3</td>\n",
       "      <td>Ennalve</td>\n",
       "    </tr>\n",
       "    <tr>\n",
       "      <th>728</th>\n",
       "      <td>770</td>\n",
       "      <td>6</td>\n",
       "      <td>Mclardson</td>\n",
       "    </tr>\n",
       "    <tr>\n",
       "      <th>729</th>\n",
       "      <td>770</td>\n",
       "      <td>6</td>\n",
       "      <td>Mclardson</td>\n",
       "    </tr>\n",
       "    <tr>\n",
       "      <th>730</th>\n",
       "      <td>770</td>\n",
       "      <td>6</td>\n",
       "      <td>Mclardson</td>\n",
       "    </tr>\n",
       "    <tr>\n",
       "      <th>731</th>\n",
       "      <td>770</td>\n",
       "      <td>6</td>\n",
       "      <td>Mclardson</td>\n",
       "    </tr>\n",
       "    <tr>\n",
       "      <th>732</th>\n",
       "      <td>770</td>\n",
       "      <td>6</td>\n",
       "      <td>Mclardson</td>\n",
       "    </tr>\n",
       "    <tr>\n",
       "      <th>733</th>\n",
       "      <td>770</td>\n",
       "      <td>6</td>\n",
       "      <td>Mclardson</td>\n",
       "    </tr>\n",
       "  </tbody>\n",
       "</table>\n",
       "</div>"
      ],
      "text/plain": [
       "     PassengerGroup  GroupSize   LastName\n",
       "75               82          3      Datte\n",
       "76               82          3      Datte\n",
       "77               82          3      Datte\n",
       "100             108          3  Handertiz\n",
       "101             108          3  Handertiz\n",
       "102             108          3  Handertiz\n",
       "711             753          3    Ennalve\n",
       "712             753          3    Ennalve\n",
       "713             753          3    Ennalve\n",
       "728             770          6  Mclardson\n",
       "729             770          6  Mclardson\n",
       "730             770          6  Mclardson\n",
       "731             770          6  Mclardson\n",
       "732             770          6  Mclardson\n",
       "733             770          6  Mclardson"
      ]
     },
     "execution_count": 66,
     "metadata": {},
     "output_type": "execute_result"
    }
   ],
   "source": [
    "train[train.PassengerGroup.isin(last_name_check)][['PassengerGroup', 'GroupSize', 'LastName']]"
   ]
  },
  {
   "cell_type": "code",
   "execution_count": 67,
   "metadata": {},
   "outputs": [],
   "source": [
    "# repeat for test set\n",
    "test['LastName'] = test.groupby(['PassengerGroup'])['LastName'].transform(func)\n",
    "\n",
    "counter = np.vectorize(Counter(test['LastName']).get)\n",
    "test['FamilySize'] = counter(test['LastName'])\n",
    "\n",
    "test.loc[test['FamilySize']>100, 'FamilySize'] = 1"
   ]
  },
  {
   "cell_type": "markdown",
   "metadata": {},
   "source": [
    "#### Impute HomePlanet\n",
    "\n",
    "We established some patterns that we'd like to use to impute this column earlier.\n",
    "<li>If they have the same last name, they are from the same HomePlanet. </li>\n",
    "<li>If they are from Cabin Deck G, they are from Earth.</li>\n",
    "<li>If they are from Cabin Deck A, B, C, or T, they are from Europa.</li>\n",
    "<li>If their total spending is more than 6400 (max for Earth passenger), they are from Europa.</li>\n",
    "<li>Anymore missing values, we fill it with Earth (the mode).</li>"
   ]
  },
  {
   "cell_type": "code",
   "execution_count": 68,
   "metadata": {},
   "outputs": [
    {
     "data": {
      "text/plain": [
       "Earth     4602\n",
       "Europa    2131\n",
       "Mars      1759\n",
       "Name: HomePlanet, dtype: int64"
      ]
     },
     "execution_count": 68,
     "metadata": {},
     "output_type": "execute_result"
    }
   ],
   "source": [
    "train.HomePlanet.value_counts()"
   ]
  },
  {
   "cell_type": "code",
   "execution_count": 69,
   "metadata": {},
   "outputs": [
    {
     "data": {
      "text/plain": [
       "201"
      ]
     },
     "execution_count": 69,
     "metadata": {},
     "output_type": "execute_result"
    }
   ],
   "source": [
    "train.HomePlanet.isna().sum()"
   ]
  },
  {
   "cell_type": "code",
   "execution_count": 70,
   "metadata": {},
   "outputs": [],
   "source": [
    "# fill missing homeplanet with respect to last name\n",
    "train['HomePlanet'] = train.groupby(['LastName'])['HomePlanet'].transform(func)\n",
    "\n",
    "# fill missing values with respect to cabin deck\n",
    "train.loc[(train.CabinDeck=='G')&(train.HomePlanet.isna()), 'HomePlanet'] = 'Earth'\n",
    "train.loc[(train.CabinDeck.isin(['A','B','C','T']))&(train.HomePlanet.isna()), 'HomePlanet']='Europa'\n",
    "\n",
    "# fill missing values with respect to spending\n",
    "train.loc[(train.LuxurySpend>6400)&(train.HomePlanet.isna()), 'HomePlanet']='Europa'\n",
    "\n",
    "# fill the rest with mode (Earth)\n",
    "train['HomePlanet'] = train['HomePlanet'].fillna('Earth')"
   ]
  },
  {
   "cell_type": "code",
   "execution_count": 71,
   "metadata": {},
   "outputs": [
    {
     "data": {
      "text/plain": [
       "0"
      ]
     },
     "execution_count": 71,
     "metadata": {},
     "output_type": "execute_result"
    }
   ],
   "source": [
    "train.HomePlanet.isna().sum()"
   ]
  },
  {
   "cell_type": "code",
   "execution_count": 72,
   "metadata": {},
   "outputs": [],
   "source": [
    "# test set\n",
    "# fill missing homeplanet with respect to last name\n",
    "test['HomePlanet'] = test.groupby(['LastName'])['HomePlanet'].transform(func)\n",
    "\n",
    "# fill missing values with respect to cabin deck\n",
    "test.loc[(test.CabinDeck=='G')&(test.HomePlanet.isna()), 'HomePlanet'] = 'Earth'\n",
    "test.loc[(test.CabinDeck.isin(['A','B','C','T']))&(test.HomePlanet.isna()), 'HomePlanet']='Europa'\n",
    "\n",
    "# fill missing values with respect to spending\n",
    "test.loc[(train.LuxurySpend>6400)&(test.HomePlanet.isna()), 'HomePlanet']='Europa'\n",
    "\n",
    "# fill the rest with mode (Earth)\n",
    "test['HomePlanet'] = test['HomePlanet'].fillna('Earth')"
   ]
  },
  {
   "cell_type": "code",
   "execution_count": 73,
   "metadata": {},
   "outputs": [
    {
     "data": {
      "text/plain": [
       "0"
      ]
     },
     "execution_count": 73,
     "metadata": {},
     "output_type": "execute_result"
    }
   ],
   "source": [
    "test.HomePlanet.isna().sum()"
   ]
  },
  {
   "cell_type": "markdown",
   "metadata": {},
   "source": [
    "Okay, HomePlanet is now free of NAN values. "
   ]
  },
  {
   "cell_type": "markdown",
   "metadata": {},
   "source": [
    "#### The Cabins\n",
    "\n",
    "We can use the passenger group somebody is in to impute their cabin details. They're most likely in the same cabin."
   ]
  },
  {
   "cell_type": "code",
   "execution_count": 74,
   "metadata": {},
   "outputs": [
    {
     "name": "stderr",
     "output_type": "stream",
     "text": [
      "c:\\Users\\61411\\anaconda3\\lib\\site-packages\\seaborn\\_decorators.py:36: FutureWarning: Pass the following variable as a keyword arg: x. From version 0.12, the only valid positional argument will be `data`, and passing other arguments without an explicit keyword will result in an error or misinterpretation.\n",
      "  warnings.warn(\n"
     ]
    },
    {
     "data": {
      "image/png": "[encoded data removed]",
      "text/plain": [
       "<Figure size 432x288 with 1 Axes>"
      ]
     },
     "metadata": {},
     "output_type": "display_data"
    }
   ],
   "source": [
    "group_cabindeck = train[train['GroupSize']>1].groupby(['PassengerGroup', 'CabinDeck'])['CabinDeck'].size().unstack().fillna(0)\n",
    "\n",
    "plt.title('Unique Cabin Decks per passenger group')\n",
    "sns.countplot((group_cabindeck>0).sum(axis=1), palette=CMAP);"
   ]
  },
  {
   "cell_type": "code",
   "execution_count": 75,
   "metadata": {},
   "outputs": [
    {
     "name": "stderr",
     "output_type": "stream",
     "text": [
      "c:\\Users\\61411\\anaconda3\\lib\\site-packages\\seaborn\\_decorators.py:36: FutureWarning: Pass the following variable as a keyword arg: x. From version 0.12, the only valid positional argument will be `data`, and passing other arguments without an explicit keyword will result in an error or misinterpretation.\n",
      "  warnings.warn(\n"
     ]
    },
    {
     "data": {
      "image/png": "[encoded data removed]",
      "text/plain": [
       "<Figure size 432x288 with 1 Axes>"
      ]
     },
     "metadata": {},
     "output_type": "display_data"
    }
   ],
   "source": [
    "group_cabingroup = train[train['GroupSize']>1].groupby(['PassengerGroup', 'CabinGroup'])['CabinGroup'].size().unstack().fillna(0)\n",
    "\n",
    "plt.title('Unique Cabin Group per passenger group')\n",
    "sns.countplot((group_cabingroup>0).sum(axis=1), palette=CMAP);"
   ]
  },
  {
   "cell_type": "code",
   "execution_count": 76,
   "metadata": {},
   "outputs": [
    {
     "name": "stderr",
     "output_type": "stream",
     "text": [
      "c:\\Users\\61411\\anaconda3\\lib\\site-packages\\seaborn\\_decorators.py:36: FutureWarning: Pass the following variable as a keyword arg: x. From version 0.12, the only valid positional argument will be `data`, and passing other arguments without an explicit keyword will result in an error or misinterpretation.\n",
      "  warnings.warn(\n"
     ]
    },
    {
     "data": {
      "image/png": "[encoded data removed]",
      "text/plain": [
       "<Figure size 432x288 with 1 Axes>"
      ]
     },
     "metadata": {},
     "output_type": "display_data"
    }
   ],
   "source": [
    "group_cabinside = train[train['GroupSize']>1].groupby(['PassengerGroup', 'CabinSide'])['CabinSide'].size().unstack().fillna(0)\n",
    "\n",
    "plt.title('Unique Cabins per group')\n",
    "sns.countplot((group_cabinside>0).sum(axis=1), palette=CMAP);"
   ]
  },
  {
   "cell_type": "markdown",
   "metadata": {},
   "source": [
    "#### Impute Cabin Side\n",
    "\n",
    "We know that for any given passenger group, everyone in the group is in the same cabin side."
   ]
  },
  {
   "cell_type": "code",
   "execution_count": 77,
   "metadata": {},
   "outputs": [
    {
     "data": {
      "text/plain": [
       "S    4288\n",
       "P    4206\n",
       "Name: CabinSide, dtype: int64"
      ]
     },
     "execution_count": 77,
     "metadata": {},
     "output_type": "execute_result"
    }
   ],
   "source": [
    "train.CabinSide.value_counts()"
   ]
  },
  {
   "cell_type": "code",
   "execution_count": 78,
   "metadata": {},
   "outputs": [
    {
     "data": {
      "text/plain": [
       "199"
      ]
     },
     "execution_count": 78,
     "metadata": {},
     "output_type": "execute_result"
    }
   ],
   "source": [
    "train.CabinSide.isna().sum()"
   ]
  },
  {
   "cell_type": "code",
   "execution_count": 79,
   "metadata": {},
   "outputs": [],
   "source": [
    "# fill missing side with respect to passenger group\n",
    "train['CabinSide'] = train.groupby(['PassengerGroup'])['CabinSide'].transform(func)\n",
    "\n",
    "test['CabinSide'] = test.groupby(['PassengerGroup'])['CabinSide'].transform(func)"
   ]
  },
  {
   "cell_type": "code",
   "execution_count": 80,
   "metadata": {},
   "outputs": [
    {
     "data": {
      "text/plain": [
       "S    4343\n",
       "P    4251\n",
       "Name: CabinSide, dtype: int64"
      ]
     },
     "execution_count": 80,
     "metadata": {},
     "output_type": "execute_result"
    }
   ],
   "source": [
    "train.CabinSide.value_counts()"
   ]
  },
  {
   "cell_type": "code",
   "execution_count": 81,
   "metadata": {},
   "outputs": [
    {
     "data": {
      "text/plain": [
       "99"
      ]
     },
     "execution_count": 81,
     "metadata": {},
     "output_type": "execute_result"
    }
   ],
   "source": [
    "train.CabinSide.isna().sum()"
   ]
  },
  {
   "cell_type": "markdown",
   "metadata": {},
   "source": [
    "There is really not much else to separate whether somebody is in the Starboard or the Portside. It's pretty balanced. We could try to impute it randomly to preserve the ratio. "
   ]
  },
  {
   "cell_type": "code",
   "execution_count": 82,
   "metadata": {},
   "outputs": [],
   "source": [
    "import random\n",
    "random.seed(42)\n",
    "\n",
    "sides = ['S', 'P']\n",
    "train.loc[train.CabinSide.isna(), 'CabinSide'] = [random.choice(sides) for missing_value in train.loc[train.CabinSide.isna(), 'CabinSide']]\n",
    "\n",
    "test.loc[test.CabinSide.isna(), 'CabinSide'] = [random.choice(sides) for missing_value in test.loc[test.CabinSide.isna(), 'CabinSide']]"
   ]
  },
  {
   "cell_type": "code",
   "execution_count": 83,
   "metadata": {},
   "outputs": [
    {
     "data": {
      "text/plain": [
       "S    4399\n",
       "P    4294\n",
       "Name: CabinSide, dtype: int64"
      ]
     },
     "execution_count": 83,
     "metadata": {},
     "output_type": "execute_result"
    }
   ],
   "source": [
    "train.CabinSide.value_counts()"
   ]
  },
  {
   "cell_type": "code",
   "execution_count": 84,
   "metadata": {},
   "outputs": [
    {
     "data": {
      "text/plain": [
       "0"
      ]
     },
     "execution_count": 84,
     "metadata": {},
     "output_type": "execute_result"
    }
   ],
   "source": [
    "train.CabinSide.isna().sum()"
   ]
  },
  {
   "cell_type": "markdown",
   "metadata": {},
   "source": [
    "#### Impute Cabin Deck\n",
    "\n",
    "<li>If they are from Earth: Cabin G</li>\n",
    "<li>If they are from Mars: Cabin F</li>\n",
    "<li>If they are from Europa: Cabin B</li>"
   ]
  },
  {
   "cell_type": "code",
   "execution_count": 85,
   "metadata": {},
   "outputs": [],
   "source": [
    "train.loc[(train.CabinDeck.isna())&(train.HomePlanet=='Earth'), 'CabinDeck'] = 'G'\n",
    "train.loc[(train.CabinDeck.isna())&(train.HomePlanet=='Mars'), 'CabinDeck'] = 'F'\n",
    "train.loc[(train.CabinDeck.isna())&(train.HomePlanet=='Europa'), 'CabinDeck'] = 'B'\n",
    "\n",
    "test.loc[(test.CabinDeck.isna())&(test.HomePlanet=='Earth'), 'CabinDeck'] = 'G'\n",
    "test.loc[(test.CabinDeck.isna())&(test.HomePlanet=='Mars'), 'CabinDeck'] = 'F'\n",
    "test.loc[(test.CabinDeck.isna())&(test.HomePlanet=='Europa'), 'CabinDeck'] = 'B'"
   ]
  },
  {
   "cell_type": "code",
   "execution_count": 86,
   "metadata": {},
   "outputs": [
    {
     "data": {
      "text/plain": [
       "0"
      ]
     },
     "execution_count": 86,
     "metadata": {},
     "output_type": "execute_result"
    }
   ],
   "source": [
    "train.CabinDeck.isna().sum()"
   ]
  },
  {
   "cell_type": "markdown",
   "metadata": {},
   "source": [
    "#### Impute Cabin Group"
   ]
  },
  {
   "cell_type": "code",
   "execution_count": 87,
   "metadata": {},
   "outputs": [
    {
     "data": {
      "image/png": "[encoded data removed]",
      "text/plain": [
       "<Figure size 1000x600 with 1 Axes>"
      ]
     },
     "metadata": {},
     "output_type": "display_data"
    }
   ],
   "source": [
    "plt.figure(figsize=(10,6), dpi=100)\n",
    "sns.boxplot(data=train, x='CabinGroup', y='PassengerGroup', palette=CMAP)\n",
    "plt.grid()"
   ]
  },
  {
   "cell_type": "markdown",
   "metadata": {},
   "source": [
    "Alright, we see a clear pattern here in the assignment of passenger group number and their respective cabin number, which has been made into this new feature, CabinGroup.\n",
    "\n",
    "We could impute it in this way:\n",
    "<li>PassengerGroup < 2000 is Group 1</li>\n",
    "<li>PassengerGroup between 2000 and 4000 is Group 2</li>\n",
    "<li>PassengerGroup between 4000 and 6000 is Group 3</li>\n",
    "<li>PassengerGroup between 6000 and 8000 is Group 4</li>\n",
    "<li>PassengerGroup > 8000 is Group 5</li>\n"
   ]
  },
  {
   "cell_type": "code",
   "execution_count": 88,
   "metadata": {},
   "outputs": [],
   "source": [
    "train.loc[(train.CabinGroup.isna())&(train.PassengerGroup <=2000), 'CabinGroup'] = 'Group 1'\n",
    "train.loc[(train.CabinGroup.isna())&(train.PassengerGroup <=4000), 'CabinGroup'] = 'Group 2'\n",
    "train.loc[(train.CabinGroup.isna())&(train.PassengerGroup <=6000), 'CabinGroup'] = 'Group 3'\n",
    "train.loc[(train.CabinGroup.isna())&(train.PassengerGroup <=8000), 'CabinGroup'] = 'Group 4'\n",
    "train['CabinGroup'] = train['CabinGroup'].fillna('Group 5')\n",
    "\n",
    "test.loc[(test.CabinGroup.isna())&(test.PassengerGroup <=2000), 'CabinGroup'] = 'Group 1'\n",
    "test.loc[(test.CabinGroup.isna())&(test.PassengerGroup <=4000), 'CabinGroup'] = 'Group 2'\n",
    "test.loc[(test.CabinGroup.isna())&(test.PassengerGroup <=6000), 'CabinGroup'] = 'Group 3'\n",
    "test.loc[(test.CabinGroup.isna())&(test.PassengerGroup <=8000), 'CabinGroup'] = 'Group 4'\n",
    "test['CabinGroup'] = test['CabinGroup'].fillna('Group 5')\n"
   ]
  },
  {
   "cell_type": "code",
   "execution_count": 89,
   "metadata": {},
   "outputs": [
    {
     "data": {
      "text/plain": [
       "0"
      ]
     },
     "execution_count": 89,
     "metadata": {},
     "output_type": "execute_result"
    }
   ],
   "source": [
    "train.CabinGroup.isna().sum()"
   ]
  },
  {
   "cell_type": "code",
   "execution_count": 90,
   "metadata": {},
   "outputs": [
    {
     "data": {
      "text/plain": [
       "0"
      ]
     },
     "execution_count": 90,
     "metadata": {},
     "output_type": "execute_result"
    }
   ],
   "source": [
    "test.CabinGroup.isna().sum()"
   ]
  },
  {
   "cell_type": "markdown",
   "metadata": {},
   "source": [
    "All the cabin related columns have no more missing values. "
   ]
  },
  {
   "cell_type": "markdown",
   "metadata": {},
   "source": [
    "#### Impute CryoSleep, Destination, and VIP\n",
    "\n",
    "These columns are more straightforward, we simply impute them with their mode."
   ]
  },
  {
   "cell_type": "code",
   "execution_count": 91,
   "metadata": {},
   "outputs": [],
   "source": [
    "train['CryoSleep'] = train['CryoSleep'].fillna(train.CryoSleep.mode()[0])\n",
    "train['Destination'] = train['Destination'].fillna(train.Destination.mode()[0])\n",
    "train['VIP'] = train['VIP'].fillna(train.VIP.mode()[0])\n",
    "\n",
    "test['CryoSleep'] = test['CryoSleep'].fillna(False)\n",
    "test['Destination'] = test['Destination'].fillna('TRAPPIST-1e')\n",
    "test['VIP'] = test['VIP'].fillna(False)"
   ]
  },
  {
   "cell_type": "markdown",
   "metadata": {},
   "source": [
    "Drop Cabin, CabinNum, Name, and LastName"
   ]
  },
  {
   "cell_type": "code",
   "execution_count": 92,
   "metadata": {},
   "outputs": [],
   "source": [
    "train = train.drop(['Cabin', 'CabinNum', 'Name', 'LastName'], axis=1)\n",
    "\n",
    "test = test.drop(['Cabin', 'CabinNum', 'Name', 'LastName'], axis=1)"
   ]
  },
  {
   "cell_type": "markdown",
   "metadata": {},
   "source": [
    "### Impute Numerical Columns"
   ]
  },
  {
   "cell_type": "markdown",
   "metadata": {},
   "source": [
    "#### Impute Age\n",
    "\n",
    "We can impute Age with the median but maybe there's some differences if we look at subgroups such as HomePlanet, Alone, and etc."
   ]
  },
  {
   "cell_type": "code",
   "execution_count": 93,
   "metadata": {},
   "outputs": [
    {
     "data": {
      "text/plain": [
       "HomePlanet\n",
       "Earth     23.0\n",
       "Europa    33.0\n",
       "Mars      28.0\n",
       "Name: Age, dtype: float64"
      ]
     },
     "execution_count": 93,
     "metadata": {},
     "output_type": "execute_result"
    }
   ],
   "source": [
    "train.groupby('HomePlanet')['Age'].median()"
   ]
  },
  {
   "cell_type": "code",
   "execution_count": 94,
   "metadata": {},
   "outputs": [
    {
     "data": {
      "text/plain": [
       "Alone\n",
       "False    26.0\n",
       "True     28.0\n",
       "Name: Age, dtype: float64"
      ]
     },
     "execution_count": 94,
     "metadata": {},
     "output_type": "execute_result"
    }
   ],
   "source": [
    "train.groupby('Alone')['Age'].median()"
   ]
  },
  {
   "cell_type": "code",
   "execution_count": 95,
   "metadata": {},
   "outputs": [
    {
     "data": {
      "text/html": [
       "<div>\n",
       "<style scoped>\n",
       "    .dataframe tbody tr th:only-of-type {\n",
       "        vertical-align: middle;\n",
       "    }\n",
       "\n",
       "    .dataframe tbody tr th {\n",
       "        vertical-align: top;\n",
       "    }\n",
       "\n",
       "    .dataframe thead th {\n",
       "        text-align: right;\n",
       "    }\n",
       "</style>\n",
       "<table border=\"1\" class=\"dataframe\">\n",
       "  <thead>\n",
       "    <tr style=\"text-align: right;\">\n",
       "      <th></th>\n",
       "      <th>Alone</th>\n",
       "      <th>False</th>\n",
       "      <th>True</th>\n",
       "    </tr>\n",
       "    <tr>\n",
       "      <th>HomePlanet</th>\n",
       "      <th>ZeroSpend</th>\n",
       "      <th></th>\n",
       "      <th></th>\n",
       "    </tr>\n",
       "  </thead>\n",
       "  <tbody>\n",
       "    <tr>\n",
       "      <th rowspan=\"2\" valign=\"top\">Earth</th>\n",
       "      <th>False</th>\n",
       "      <td>26.0</td>\n",
       "      <td>25.0</td>\n",
       "    </tr>\n",
       "    <tr>\n",
       "      <th>True</th>\n",
       "      <td>8.0</td>\n",
       "      <td>23.0</td>\n",
       "    </tr>\n",
       "    <tr>\n",
       "      <th rowspan=\"2\" valign=\"top\">Europa</th>\n",
       "      <th>False</th>\n",
       "      <td>33.0</td>\n",
       "      <td>36.0</td>\n",
       "    </tr>\n",
       "    <tr>\n",
       "      <th>True</th>\n",
       "      <td>28.0</td>\n",
       "      <td>33.0</td>\n",
       "    </tr>\n",
       "    <tr>\n",
       "      <th rowspan=\"2\" valign=\"top\">Mars</th>\n",
       "      <th>False</th>\n",
       "      <td>29.0</td>\n",
       "      <td>31.0</td>\n",
       "    </tr>\n",
       "    <tr>\n",
       "      <th>True</th>\n",
       "      <td>20.0</td>\n",
       "      <td>29.0</td>\n",
       "    </tr>\n",
       "  </tbody>\n",
       "</table>\n",
       "</div>"
      ],
      "text/plain": [
       "Alone                 False  True\n",
       "HomePlanet ZeroSpend             \n",
       "Earth      False       26.0  25.0\n",
       "           True         8.0  23.0\n",
       "Europa     False       33.0  36.0\n",
       "           True        28.0  33.0\n",
       "Mars       False       29.0  31.0\n",
       "           True        20.0  29.0"
      ]
     },
     "execution_count": 95,
     "metadata": {},
     "output_type": "execute_result"
    }
   ],
   "source": [
    "train.groupby(['HomePlanet', 'ZeroSpend', 'Alone'])['Age'].median().unstack()"
   ]
  },
  {
   "cell_type": "markdown",
   "metadata": {},
   "source": [
    "<li>People who are alone tend to be older.</li>\n",
    "<li>Those who spend some money also tend to be older.</li>\n",
    "<li>Passengers from Earth are younger than the others.</li>"
   ]
  },
  {
   "cell_type": "code",
   "execution_count": 96,
   "metadata": {},
   "outputs": [],
   "source": [
    "# fill Age with medians of subgroups\n",
    "train['Age'] = train.groupby(['HomePlanet', 'ZeroSpend', 'Alone'])['Age'].transform(lambda x: x.fillna(x.median()))\n",
    "\n",
    "test['Age'] = test.groupby(['HomePlanet', 'ZeroSpend', 'Alone'])['Age'].transform(lambda x: x.fillna(x.median()))"
   ]
  },
  {
   "cell_type": "markdown",
   "metadata": {},
   "source": [
    "#### Impute Luxury Spending Columns"
   ]
  },
  {
   "cell_type": "code",
   "execution_count": 97,
   "metadata": {},
   "outputs": [
    {
     "name": "stdout",
     "output_type": "stream",
     "text": [
      "The median of RoomService is 0.0 \n",
      "The median of FoodCourt is 0.0 \n",
      "The median of ShoppingMall is 0.0 \n",
      "The median of Spa is 0.0 \n",
      "The median of VRDeck is 0.0 \n"
     ]
    }
   ],
   "source": [
    "luxury_cols = ['RoomService', 'FoodCourt', 'ShoppingMall', 'Spa', 'VRDeck']\n",
    "\n",
    "for col in luxury_cols:\n",
    "    train[col] = train[col].fillna(train[col].median())\n",
    "    print(f\"The median of {col} is {train[col].median()} \")"
   ]
  },
  {
   "cell_type": "code",
   "execution_count": 98,
   "metadata": {},
   "outputs": [],
   "source": [
    "for col in luxury_cols:\n",
    "    test[col] = test[col].fillna(0)"
   ]
  },
  {
   "cell_type": "code",
   "execution_count": 99,
   "metadata": {},
   "outputs": [
    {
     "data": {
      "text/plain": [
       "PassengerId             0\n",
       "HomePlanet              0\n",
       "CryoSleep               0\n",
       "Destination             0\n",
       "Age                     0\n",
       "VIP                     0\n",
       "RoomService             0\n",
       "FoodCourt               0\n",
       "ShoppingMall            0\n",
       "Spa                     0\n",
       "VRDeck                  0\n",
       "Transported             0\n",
       "LuxurySpend             0\n",
       "ZeroSpend               0\n",
       "PassengerGroup          0\n",
       "PassengerGroupNumber    0\n",
       "GroupSize               0\n",
       "Alone                   0\n",
       "CabinDeck               0\n",
       "CabinSide               0\n",
       "CabinGroup              0\n",
       "FamilySize              0\n",
       "dtype: int64"
      ]
     },
     "execution_count": 99,
     "metadata": {},
     "output_type": "execute_result"
    }
   ],
   "source": [
    "train.isnull().sum()"
   ]
  },
  {
   "cell_type": "code",
   "execution_count": 100,
   "metadata": {},
   "outputs": [
    {
     "data": {
      "text/plain": [
       "PassengerId             0\n",
       "HomePlanet              0\n",
       "CryoSleep               0\n",
       "Destination             0\n",
       "Age                     0\n",
       "VIP                     0\n",
       "RoomService             0\n",
       "FoodCourt               0\n",
       "ShoppingMall            0\n",
       "Spa                     0\n",
       "VRDeck                  0\n",
       "LuxurySpend             0\n",
       "ZeroSpend               0\n",
       "PassengerGroup          0\n",
       "PassengerGroupNumber    0\n",
       "GroupSize               0\n",
       "Alone                   0\n",
       "CabinDeck               0\n",
       "CabinSide               0\n",
       "CabinGroup              0\n",
       "FamilySize              0\n",
       "dtype: int64"
      ]
     },
     "execution_count": 100,
     "metadata": {},
     "output_type": "execute_result"
    }
   ],
   "source": [
    "test.isnull().sum()"
   ]
  },
  {
   "cell_type": "markdown",
   "metadata": {},
   "source": [
    "No more missing values! Drop PassengerGroup and PassengerGroupNumber as they are no longer needed."
   ]
  },
  {
   "cell_type": "code",
   "execution_count": 101,
   "metadata": {},
   "outputs": [],
   "source": [
    "train.drop(['PassengerGroup', 'PassengerGroupNumber'], axis=1, inplace=True)\n",
    "test.drop(['PassengerGroup', 'PassengerGroupNumber'], axis=1, inplace=True)"
   ]
  },
  {
   "cell_type": "code",
   "execution_count": 102,
   "metadata": {},
   "outputs": [],
   "source": [
    "train.to_csv('../data/clean_train.csv', index=False)\n",
    "test.to_csv('../data/clean_test.csv', index=False)"
   ]
  },
  {
   "cell_type": "code",
   "execution_count": 103,
   "metadata": {},
   "outputs": [
    {
     "data": {
      "text/plain": [
       "Index(['PassengerId', 'HomePlanet', 'CryoSleep', 'Destination', 'Age', 'VIP',\n",
       "       'RoomService', 'FoodCourt', 'ShoppingMall', 'Spa', 'VRDeck',\n",
       "       'Transported', 'LuxurySpend', 'ZeroSpend', 'GroupSize', 'Alone',\n",
       "       'CabinDeck', 'CabinSide', 'CabinGroup', 'FamilySize'],\n",
       "      dtype='object')"
      ]
     },
     "execution_count": 103,
     "metadata": {},
     "output_type": "execute_result"
    }
   ],
   "source": [
    "train.columns"
   ]
  }
 ],
 "metadata": {
  "kernelspec": {
   "display_name": "Python 3.9.12 ('base')",
   "language": "python",
   "name": "python3"
  },
  "language_info": {
   "codemirror_mode": {
    "name": "ipython",
    "version": 3
   },
   "file_extension": ".py",
   "mimetype": "text/x-python",
   "name": "python",
   "nbconvert_exporter": "python",
   "pygments_lexer": "ipython3",
   "version": "3.9.12"
  },
  "orig_nbformat": 4,
  "vscode": {
   "interpreter": {
    "hash": "482b3c46282c519bd45e46c2a9de4a80953a84a049a5b3e47671bbc104c04702"
   }
  }
 },
 "nbformat": 4,
 "nbformat_minor": 2
}
